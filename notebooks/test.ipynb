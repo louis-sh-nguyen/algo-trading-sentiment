{
 "cells": [
  {
   "cell_type": "code",
   "execution_count": 1,
   "metadata": {},
   "outputs": [],
   "source": [
    "import yfinance as yf\n",
    "import pandas as pd\n",
    "import talib"
   ]
  },
  {
   "cell_type": "code",
   "execution_count": 3,
   "metadata": {},
   "outputs": [
    {
     "name": "stdout",
     "output_type": "stream",
     "text": [
      "\u001b[1;31mType:\u001b[0m        module\n",
      "\u001b[1;31mString form:\u001b[0m <module 'yfinance' from 'c:\\\\Users\\\\sieun\\\\anaconda3\\\\envs\\\\tradingenv\\\\Lib\\\\site-packages\\\\yfinance\\\\__init__.py'>\n",
      "\u001b[1;31mFile:\u001b[0m        c:\\users\\sieun\\anaconda3\\envs\\tradingenv\\lib\\site-packages\\yfinance\\__init__.py\n",
      "\u001b[1;31mDocstring:\u001b[0m   <no docstring>"
     ]
    }
   ],
   "source": [
    "yf"
   ]
  },
  {
   "cell_type": "code",
   "execution_count": 5,
   "metadata": {},
   "outputs": [
    {
     "name": "stderr",
     "output_type": "stream",
     "text": [
      "[*********************100%***********************]  1 of 1 completed\n"
     ]
    }
   ],
   "source": [
    "df = yf.download('AAPL', start='2019-01-01', end='2024-12-31')"
   ]
  },
  {
   "cell_type": "code",
   "execution_count": 12,
   "metadata": {},
   "outputs": [
    {
     "data": {
      "text/plain": [
       "MultiIndex([( 'Close', 'AAPL'),\n",
       "            (  'High', 'AAPL'),\n",
       "            (   'Low', 'AAPL'),\n",
       "            (  'Open', 'AAPL'),\n",
       "            ('Volume', 'AAPL')],\n",
       "           names=['Price', 'Ticker'])"
      ]
     },
     "execution_count": 12,
     "metadata": {},
     "output_type": "execute_result"
    }
   ],
   "source": [
    "df.columns"
   ]
  },
  {
   "cell_type": "code",
   "execution_count": 20,
   "metadata": {},
   "outputs": [
    {
     "name": "stderr",
     "output_type": "stream",
     "text": [
      "C:\\Users\\sieun\\AppData\\Local\\Temp\\ipykernel_9960\\3591518285.py:1: FutureWarning: The previous implementation of stack is deprecated and will be removed in a future version of pandas. See the What's New notes for pandas 2.1.0 for details. Specify future_stack=True to adopt the new implementation and silence this warning.\n",
      "  df = df.stack(level=1).rename_axis(['Date', 'Ticker']).reset_index(level=1)\n"
     ]
    }
   ],
   "source": [
    "df = df.stack(level=1).rename_axis(['Date', 'Ticker']).reset_index(level=1)"
   ]
  },
  {
   "cell_type": "code",
   "execution_count": 26,
   "metadata": {},
   "outputs": [
    {
     "name": "stderr",
     "output_type": "stream",
     "text": [
      "[*********************100%***********************]  1 of 1 completed\n",
      "[*********************100%***********************]  1 of 1 completed\n"
     ]
    }
   ],
   "source": [
    "tickerStrings = ['AAPL', 'MSFT']\n",
    "df_list = []\n",
    "for ticker in tickerStrings:\n",
    "    data = yf.download(ticker, group_by=\"Ticker\", period='2d')\n",
    "    data['ticker'] = ticker  # Add ticker column\n",
    "    df_list.append(data)\n",
    "\n",
    "# Combine all dataframes into a single dataframe\n",
    "df = pd.concat(df_list)\n",
    "# df.to_csv('ticker.csv')"
   ]
  },
  {
   "cell_type": "code",
   "execution_count": 53,
   "metadata": {},
   "outputs": [
    {
     "name": "stderr",
     "output_type": "stream",
     "text": [
      "[*********************100%***********************]  2 of 2 completed\n"
     ]
    }
   ],
   "source": [
    "df = yf.download(tickerStrings)\n",
    "df.columns = df.columns.droplevel(1)\n",
    "# d = {idx: gp.T for idx, gp in df.T.groupby(level=0)}"
   ]
  },
  {
   "cell_type": "code",
   "execution_count": 54,
   "metadata": {},
   "outputs": [
    {
     "data": {
      "text/html": [
       "<div>\n",
       "<style scoped>\n",
       "    .dataframe tbody tr th:only-of-type {\n",
       "        vertical-align: middle;\n",
       "    }\n",
       "\n",
       "    .dataframe tbody tr th {\n",
       "        vertical-align: top;\n",
       "    }\n",
       "\n",
       "    .dataframe thead th {\n",
       "        text-align: right;\n",
       "    }\n",
       "</style>\n",
       "<table border=\"1\" class=\"dataframe\">\n",
       "  <thead>\n",
       "    <tr style=\"text-align: right;\">\n",
       "      <th>Price</th>\n",
       "      <th>Close</th>\n",
       "      <th>Close</th>\n",
       "      <th>High</th>\n",
       "      <th>High</th>\n",
       "      <th>Low</th>\n",
       "      <th>Low</th>\n",
       "      <th>Open</th>\n",
       "      <th>Open</th>\n",
       "      <th>Volume</th>\n",
       "      <th>Volume</th>\n",
       "    </tr>\n",
       "    <tr>\n",
       "      <th>Date</th>\n",
       "      <th></th>\n",
       "      <th></th>\n",
       "      <th></th>\n",
       "      <th></th>\n",
       "      <th></th>\n",
       "      <th></th>\n",
       "      <th></th>\n",
       "      <th></th>\n",
       "      <th></th>\n",
       "      <th></th>\n",
       "    </tr>\n",
       "  </thead>\n",
       "  <tbody>\n",
       "    <tr>\n",
       "      <th>1980-12-12</th>\n",
       "      <td>0.098834</td>\n",
       "      <td>NaN</td>\n",
       "      <td>0.099264</td>\n",
       "      <td>NaN</td>\n",
       "      <td>0.098834</td>\n",
       "      <td>NaN</td>\n",
       "      <td>0.098834</td>\n",
       "      <td>NaN</td>\n",
       "      <td>469033600</td>\n",
       "      <td>NaN</td>\n",
       "    </tr>\n",
       "    <tr>\n",
       "      <th>1980-12-15</th>\n",
       "      <td>0.093678</td>\n",
       "      <td>NaN</td>\n",
       "      <td>0.094108</td>\n",
       "      <td>NaN</td>\n",
       "      <td>0.093678</td>\n",
       "      <td>NaN</td>\n",
       "      <td>0.094108</td>\n",
       "      <td>NaN</td>\n",
       "      <td>175884800</td>\n",
       "      <td>NaN</td>\n",
       "    </tr>\n",
       "    <tr>\n",
       "      <th>1980-12-16</th>\n",
       "      <td>0.086802</td>\n",
       "      <td>NaN</td>\n",
       "      <td>0.087232</td>\n",
       "      <td>NaN</td>\n",
       "      <td>0.086802</td>\n",
       "      <td>NaN</td>\n",
       "      <td>0.087232</td>\n",
       "      <td>NaN</td>\n",
       "      <td>105728000</td>\n",
       "      <td>NaN</td>\n",
       "    </tr>\n",
       "    <tr>\n",
       "      <th>1980-12-17</th>\n",
       "      <td>0.088951</td>\n",
       "      <td>NaN</td>\n",
       "      <td>0.089381</td>\n",
       "      <td>NaN</td>\n",
       "      <td>0.088951</td>\n",
       "      <td>NaN</td>\n",
       "      <td>0.088951</td>\n",
       "      <td>NaN</td>\n",
       "      <td>86441600</td>\n",
       "      <td>NaN</td>\n",
       "    </tr>\n",
       "    <tr>\n",
       "      <th>1980-12-18</th>\n",
       "      <td>0.091530</td>\n",
       "      <td>NaN</td>\n",
       "      <td>0.091959</td>\n",
       "      <td>NaN</td>\n",
       "      <td>0.091530</td>\n",
       "      <td>NaN</td>\n",
       "      <td>0.091530</td>\n",
       "      <td>NaN</td>\n",
       "      <td>73449600</td>\n",
       "      <td>NaN</td>\n",
       "    </tr>\n",
       "    <tr>\n",
       "      <th>...</th>\n",
       "      <td>...</td>\n",
       "      <td>...</td>\n",
       "      <td>...</td>\n",
       "      <td>...</td>\n",
       "      <td>...</td>\n",
       "      <td>...</td>\n",
       "      <td>...</td>\n",
       "      <td>...</td>\n",
       "      <td>...</td>\n",
       "      <td>...</td>\n",
       "    </tr>\n",
       "    <tr>\n",
       "      <th>2025-01-17</th>\n",
       "      <td>229.979996</td>\n",
       "      <td>429.029999</td>\n",
       "      <td>232.289993</td>\n",
       "      <td>434.480011</td>\n",
       "      <td>228.479996</td>\n",
       "      <td>428.170013</td>\n",
       "      <td>232.119995</td>\n",
       "      <td>434.089996</td>\n",
       "      <td>68488300</td>\n",
       "      <td>26197500.0</td>\n",
       "    </tr>\n",
       "    <tr>\n",
       "      <th>2025-01-21</th>\n",
       "      <td>222.639999</td>\n",
       "      <td>428.500000</td>\n",
       "      <td>224.419998</td>\n",
       "      <td>430.899994</td>\n",
       "      <td>219.380005</td>\n",
       "      <td>425.600006</td>\n",
       "      <td>224.000000</td>\n",
       "      <td>430.200012</td>\n",
       "      <td>98070400</td>\n",
       "      <td>26085700.0</td>\n",
       "    </tr>\n",
       "    <tr>\n",
       "      <th>2025-01-22</th>\n",
       "      <td>223.830002</td>\n",
       "      <td>446.200012</td>\n",
       "      <td>224.119995</td>\n",
       "      <td>447.269989</td>\n",
       "      <td>219.789993</td>\n",
       "      <td>436.000000</td>\n",
       "      <td>219.789993</td>\n",
       "      <td>437.559998</td>\n",
       "      <td>64126500</td>\n",
       "      <td>27803800.0</td>\n",
       "    </tr>\n",
       "    <tr>\n",
       "      <th>2025-01-23</th>\n",
       "      <td>223.660004</td>\n",
       "      <td>446.709991</td>\n",
       "      <td>227.029999</td>\n",
       "      <td>446.750000</td>\n",
       "      <td>222.300003</td>\n",
       "      <td>441.500000</td>\n",
       "      <td>224.740005</td>\n",
       "      <td>442.000000</td>\n",
       "      <td>60234800</td>\n",
       "      <td>18389300.0</td>\n",
       "    </tr>\n",
       "    <tr>\n",
       "      <th>2025-01-24</th>\n",
       "      <td>222.779999</td>\n",
       "      <td>444.059998</td>\n",
       "      <td>225.630005</td>\n",
       "      <td>446.649994</td>\n",
       "      <td>221.410004</td>\n",
       "      <td>441.399994</td>\n",
       "      <td>224.779999</td>\n",
       "      <td>445.160004</td>\n",
       "      <td>54619500</td>\n",
       "      <td>15542100.0</td>\n",
       "    </tr>\n",
       "  </tbody>\n",
       "</table>\n",
       "<p>11120 rows × 10 columns</p>\n",
       "</div>"
      ],
      "text/plain": [
       "Price            Close       Close        High        High         Low  \\\n",
       "Date                                                                     \n",
       "1980-12-12    0.098834         NaN    0.099264         NaN    0.098834   \n",
       "1980-12-15    0.093678         NaN    0.094108         NaN    0.093678   \n",
       "1980-12-16    0.086802         NaN    0.087232         NaN    0.086802   \n",
       "1980-12-17    0.088951         NaN    0.089381         NaN    0.088951   \n",
       "1980-12-18    0.091530         NaN    0.091959         NaN    0.091530   \n",
       "...                ...         ...         ...         ...         ...   \n",
       "2025-01-17  229.979996  429.029999  232.289993  434.480011  228.479996   \n",
       "2025-01-21  222.639999  428.500000  224.419998  430.899994  219.380005   \n",
       "2025-01-22  223.830002  446.200012  224.119995  447.269989  219.789993   \n",
       "2025-01-23  223.660004  446.709991  227.029999  446.750000  222.300003   \n",
       "2025-01-24  222.779999  444.059998  225.630005  446.649994  221.410004   \n",
       "\n",
       "Price              Low        Open        Open     Volume      Volume  \n",
       "Date                                                                   \n",
       "1980-12-12         NaN    0.098834         NaN  469033600         NaN  \n",
       "1980-12-15         NaN    0.094108         NaN  175884800         NaN  \n",
       "1980-12-16         NaN    0.087232         NaN  105728000         NaN  \n",
       "1980-12-17         NaN    0.088951         NaN   86441600         NaN  \n",
       "1980-12-18         NaN    0.091530         NaN   73449600         NaN  \n",
       "...                ...         ...         ...        ...         ...  \n",
       "2025-01-17  428.170013  232.119995  434.089996   68488300  26197500.0  \n",
       "2025-01-21  425.600006  224.000000  430.200012   98070400  26085700.0  \n",
       "2025-01-22  436.000000  219.789993  437.559998   64126500  27803800.0  \n",
       "2025-01-23  441.500000  224.740005  442.000000   60234800  18389300.0  \n",
       "2025-01-24  441.399994  224.779999  445.160004   54619500  15542100.0  \n",
       "\n",
       "[11120 rows x 10 columns]"
      ]
     },
     "execution_count": 54,
     "metadata": {},
     "output_type": "execute_result"
    }
   ],
   "source": [
    "df"
   ]
  },
  {
   "cell_type": "code",
   "execution_count": 40,
   "metadata": {},
   "outputs": [
    {
     "name": "stdout",
     "output_type": "stream",
     "text": [
      "Ticker       Date MSFT                            AAPL                      \\\n",
      "Price             Open High Low Close Volume      Open      High       Low   \n",
      "0      1980-12-12  NaN  NaN NaN   NaN    NaN  0.098834  0.099264  0.098834   \n",
      "1      1980-12-15  NaN  NaN NaN   NaN    NaN  0.094108  0.094108  0.093678   \n",
      "2      1980-12-16  NaN  NaN NaN   NaN    NaN  0.087232  0.087232  0.086802   \n",
      "3      1980-12-17  NaN  NaN NaN   NaN    NaN  0.088951  0.089381  0.088951   \n",
      "4      1980-12-18  NaN  NaN NaN   NaN    NaN  0.091530  0.091959  0.091530   \n",
      "\n",
      "Ticker                       \n",
      "Price      Close     Volume  \n",
      "0       0.098834  469033600  \n",
      "1       0.093678  175884800  \n",
      "2       0.086802  105728000  \n",
      "3       0.088951   86441600  \n",
      "4       0.091530   73449600  \n"
     ]
    }
   ],
   "source": [
    "df_reset = df.reset_index()\n",
    "print(df_reset.head())"
   ]
  },
  {
   "cell_type": "code",
   "execution_count": null,
   "metadata": {},
   "outputs": [
    {
     "name": "stdout",
     "output_type": "stream",
     "text": [
      "dict_keys(['address1', 'city', 'state', 'zip', 'country', 'phone', 'website', 'industry', 'industryKey', 'industryDisp', 'sector', 'sectorKey', 'sectorDisp', 'longBusinessSummary', 'fullTimeEmployees', 'companyOfficers', 'auditRisk', 'boardRisk', 'compensationRisk', 'shareHolderRightsRisk', 'overallRisk', 'governanceEpochDate', 'compensationAsOfEpochDate', 'irWebsite', 'maxAge', 'priceHint', 'previousClose', 'open', 'dayLow', 'dayHigh', 'regularMarketPreviousClose', 'regularMarketOpen', 'regularMarketDayLow', 'regularMarketDayHigh', 'dividendRate', 'dividendYield', 'exDividendDate', 'payoutRatio', 'fiveYearAvgDividendYield', 'beta', 'trailingPE', 'forwardPE', 'volume', 'regularMarketVolume', 'averageVolume', 'averageVolume10days', 'averageDailyVolume10Day', 'bid', 'ask', 'bidSize', 'askSize', 'marketCap', 'fiftyTwoWeekLow', 'fiftyTwoWeekHigh', 'priceToSalesTrailing12Months', 'fiftyDayAverage', 'twoHundredDayAverage', 'trailingAnnualDividendRate', 'trailingAnnualDividendYield', 'currency', 'enterpriseValue', 'profitMargins', 'floatShares', 'sharesOutstanding', 'sharesShort', 'sharesShortPriorMonth', 'sharesShortPreviousMonthDate', 'dateShortInterest', 'sharesPercentSharesOut', 'heldPercentInsiders', 'heldPercentInstitutions', 'shortRatio', 'shortPercentOfFloat', 'impliedSharesOutstanding', 'bookValue', 'priceToBook', 'lastFiscalYearEnd', 'nextFiscalYearEnd', 'mostRecentQuarter', 'earningsQuarterlyGrowth', 'netIncomeToCommon', 'trailingEps', 'forwardEps', 'lastSplitFactor', 'lastSplitDate', 'enterpriseToRevenue', 'enterpriseToEbitda', '52WeekChange', 'SandP52WeekChange', 'lastDividendValue', 'lastDividendDate', 'exchange', 'quoteType', 'symbol', 'underlyingSymbol', 'shortName', 'longName', 'firstTradeDateEpochUtc', 'timeZoneFullName', 'timeZoneShortName', 'uuid', 'messageBoardId', 'gmtOffSetMilliseconds', 'currentPrice', 'targetHighPrice', 'targetLowPrice', 'targetMeanPrice', 'targetMedianPrice', 'recommendationMean', 'recommendationKey', 'numberOfAnalystOpinions', 'totalCash', 'totalCashPerShare', 'ebitda', 'totalDebt', 'quickRatio', 'currentRatio', 'totalRevenue', 'debtToEquity', 'revenuePerShare', 'returnOnAssets', 'returnOnEquity', 'grossProfits', 'freeCashflow', 'operatingCashflow', 'earningsGrowth', 'revenueGrowth', 'grossMargins', 'ebitdaMargins', 'operatingMargins', 'financialCurrency', 'trailingPegRatio'])\n"
     ]
    }
   ],
   "source": [
    "stock = yf.Ticker('AAPL')\n",
    "dict = stock.info\n",
    "print(dict.keys())"
   ]
  },
  {
   "cell_type": "code",
   "execution_count": 2,
   "metadata": {},
   "outputs": [],
   "source": [
    "stock = yf.Ticker('AAPL')"
   ]
  },
  {
   "cell_type": "code",
   "execution_count": 30,
   "metadata": {},
   "outputs": [
    {
     "data": {
      "text/plain": [
       "['__class__',\n",
       " '__delattr__',\n",
       " '__dict__',\n",
       " '__dir__',\n",
       " '__doc__',\n",
       " '__eq__',\n",
       " '__format__',\n",
       " '__ge__',\n",
       " '__getattribute__',\n",
       " '__getstate__',\n",
       " '__gt__',\n",
       " '__hash__',\n",
       " '__init__',\n",
       " '__init_subclass__',\n",
       " '__le__',\n",
       " '__lt__',\n",
       " '__module__',\n",
       " '__ne__',\n",
       " '__new__',\n",
       " '__reduce__',\n",
       " '__reduce_ex__',\n",
       " '__repr__',\n",
       " '__setattr__',\n",
       " '__sizeof__',\n",
       " '__str__',\n",
       " '__subclasshook__',\n",
       " '__weakref__',\n",
       " '_analysis',\n",
       " '_data',\n",
       " '_download_options',\n",
       " '_earnings',\n",
       " '_earnings_dates',\n",
       " '_expirations',\n",
       " '_fast_info',\n",
       " '_fetch_ticker_tz',\n",
       " '_financials',\n",
       " '_fundamentals',\n",
       " '_funds_data',\n",
       " '_get_ticker_tz',\n",
       " '_holders',\n",
       " '_isin',\n",
       " '_lazy_load_price_history',\n",
       " '_news',\n",
       " '_options2df',\n",
       " '_price_history',\n",
       " '_quote',\n",
       " '_shares',\n",
       " '_tz',\n",
       " '_underlying',\n",
       " 'actions',\n",
       " 'analyst_price_targets',\n",
       " 'balance_sheet',\n",
       " 'balancesheet',\n",
       " 'basic_info',\n",
       " 'calendar',\n",
       " 'capital_gains',\n",
       " 'cash_flow',\n",
       " 'cashflow',\n",
       " 'dividends',\n",
       " 'earnings',\n",
       " 'earnings_dates',\n",
       " 'earnings_estimate',\n",
       " 'earnings_history',\n",
       " 'eps_revisions',\n",
       " 'eps_trend',\n",
       " 'fast_info',\n",
       " 'financials',\n",
       " 'funds_data',\n",
       " 'get_actions',\n",
       " 'get_analyst_price_targets',\n",
       " 'get_balance_sheet',\n",
       " 'get_balancesheet',\n",
       " 'get_calendar',\n",
       " 'get_capital_gains',\n",
       " 'get_cash_flow',\n",
       " 'get_cashflow',\n",
       " 'get_dividends',\n",
       " 'get_earnings',\n",
       " 'get_earnings_dates',\n",
       " 'get_earnings_estimate',\n",
       " 'get_earnings_history',\n",
       " 'get_eps_revisions',\n",
       " 'get_eps_trend',\n",
       " 'get_fast_info',\n",
       " 'get_financials',\n",
       " 'get_funds_data',\n",
       " 'get_growth_estimates',\n",
       " 'get_history_metadata',\n",
       " 'get_income_stmt',\n",
       " 'get_incomestmt',\n",
       " 'get_info',\n",
       " 'get_insider_purchases',\n",
       " 'get_insider_roster_holders',\n",
       " 'get_insider_transactions',\n",
       " 'get_institutional_holders',\n",
       " 'get_isin',\n",
       " 'get_major_holders',\n",
       " 'get_mutualfund_holders',\n",
       " 'get_news',\n",
       " 'get_recommendations',\n",
       " 'get_recommendations_summary',\n",
       " 'get_revenue_estimate',\n",
       " 'get_sec_filings',\n",
       " 'get_shares',\n",
       " 'get_shares_full',\n",
       " 'get_splits',\n",
       " 'get_sustainability',\n",
       " 'get_upgrades_downgrades',\n",
       " 'growth_estimates',\n",
       " 'history',\n",
       " 'history_metadata',\n",
       " 'income_stmt',\n",
       " 'incomestmt',\n",
       " 'info',\n",
       " 'insider_purchases',\n",
       " 'insider_roster_holders',\n",
       " 'insider_transactions',\n",
       " 'institutional_holders',\n",
       " 'isin',\n",
       " 'major_holders',\n",
       " 'mutualfund_holders',\n",
       " 'news',\n",
       " 'option_chain',\n",
       " 'options',\n",
       " 'proxy',\n",
       " 'quarterly_balance_sheet',\n",
       " 'quarterly_balancesheet',\n",
       " 'quarterly_cash_flow',\n",
       " 'quarterly_cashflow',\n",
       " 'quarterly_earnings',\n",
       " 'quarterly_financials',\n",
       " 'quarterly_income_stmt',\n",
       " 'quarterly_incomestmt',\n",
       " 'recommendations',\n",
       " 'recommendations_summary',\n",
       " 'revenue_estimate',\n",
       " 'sec_filings',\n",
       " 'session',\n",
       " 'shares',\n",
       " 'splits',\n",
       " 'sustainability',\n",
       " 'ticker',\n",
       " 'upgrades_downgrades']"
      ]
     },
     "execution_count": 30,
     "metadata": {},
     "output_type": "execute_result"
    }
   ],
   "source": [
    "dir(stock)"
   ]
  },
  {
   "cell_type": "code",
   "execution_count": 7,
   "metadata": {},
   "outputs": [
    {
     "data": {
      "text/plain": [
       "[{'id': '92789b79-1f70-34bc-9c0a-fb25fdbd732d',\n",
       "  'content': {'id': '92789b79-1f70-34bc-9c0a-fb25fdbd732d',\n",
       "   'contentType': 'VIDEO',\n",
       "   'title': 'Big Tech set for 20% earnings growth in 2025, portfolio mgr. says',\n",
       "   'description': '<p>The technology sector (<a data-i13n=\"cpos:1;pos:1\" href=\"https://finance.yahoo.com/quote/XLK\">XLK</a>) is rebounding from losses earlier this week after the latest AI model from Chinese-owned DeepSeek sent <a data-i13n=\"cpos:2;pos:1\" href=\"https://finance.yahoo.com/news/nvidia-stock-begins-to-recover-after-deepseek-ai-frenzy-prompted-near-600-billion-loss-134240811.html\">chip stocks plunging</a>. Allspring Global Investments Senior Portfolio Manager and Head of Capital Allocation Margie Patel joins Market Domination to discuss the tech sector outlook as the earnings season progresses.</p>\\n<p>Patel acknowledges that she expected 2025 to \"be a year of deceleration in growth\" for tech, adding that there is still \"uncertainty\" regarding DeepSeek\\'s impact. However, she notes that historically, new product entries into the tech market tend to create increased demand, \"so everybody really benefits.\"</p>\\n<p>Addressing valuation concerns in the tech sector, she points out that Big Tech PE ratios (price-earnings) have experienced \"erosion\" in recent months as investors worry about slowing growth and negative capital expenditure impacts.</p>\\n<p>Nevertheless, Patel remains optimistic, projecting 20% earnings growth for the sector in 2025, which would \"justify\" current valuations.</p>\\n<p>To watch more expert insights and analysis on the latest market action, check out more Market Domination\\xa0<a data-i13n=\"cpos:3;pos:1\" href=\"https://finance.yahoo.com/videos/series/market-domination/\">here</a>.</p>\\n<p><em>This post was written by </em><a data-i13n=\"cpos:4;pos:1\" href=\"https://www.yahoo.com/author/angel-smith/\"><em>Angel Smith</em></a></p>',\n",
       "   'summary': 'The technology sector (XLK) is rebounding from losses earlier this week after the latest AI model from Chinese-owned DeepSeek sent chip stocks plunging. Allspring Global Investments Senior Portfolio Manager and Head of Capital Allocation Margie Patel joins Market Domination to discuss the tech sector outlook as the earnings season progresses. Patel acknowledges that she expected 2025 to \"be a year of deceleration in growth\" for tech, adding that there is still \"uncertainty\" regarding DeepSeek\\'s impact. However, she notes that historically, new product entries into the tech market tend to create increased demand, \"so everybody really benefits.\" Addressing valuation concerns in the tech sector, she points out that Big Tech PE ratios (price-earnings) have experienced \"erosion\" in recent months as investors worry about slowing growth and negative capital expenditure impacts. Nevertheless, Patel remains optimistic, projecting 20% earnings growth for the sector in 2025, which would \"justify\" current valuations. To watch more expert insights and analysis on the latest market action, check out more Market Domination&nbsp;here. This post was written by Angel Smith',\n",
       "   'pubDate': '2025-01-28T21:45:00Z',\n",
       "   'isHosted': True,\n",
       "   'bypassModal': False,\n",
       "   'previewUrl': None,\n",
       "   'thumbnail': {'originalUrl': 'https://s.yimg.com/os/creatr-uploaded-images/2025-01/b14aa420-ddb6-11ef-af39-99708ef2b4a0',\n",
       "    'originalWidth': 4490,\n",
       "    'originalHeight': 2528,\n",
       "    'caption': '',\n",
       "    'resolutions': [{'url': 'https://s.yimg.com/uu/api/res/1.2/vV2CiMinRvw8F6S3hxrGgg--~B/aD0yNTI4O3c9NDQ5MDthcHBpZD15dGFjaHlvbg--/https://s.yimg.com/os/creatr-uploaded-images/2025-01/b14aa420-ddb6-11ef-af39-99708ef2b4a0',\n",
       "      'width': 4490,\n",
       "      'height': 2528,\n",
       "      'tag': 'original'},\n",
       "     {'url': 'https://s.yimg.com/uu/api/res/1.2/iNc404HzzbKQS7E6gLwygw--~B/Zmk9c3RyaW07aD0xMjg7dz0xNzA7YXBwaWQ9eXRhY2h5b24-/https://s.yimg.com/os/creatr-uploaded-images/2025-01/b14aa420-ddb6-11ef-af39-99708ef2b4a0',\n",
       "      'width': 170,\n",
       "      'height': 128,\n",
       "      'tag': '170x128'}]},\n",
       "   'provider': {'displayName': 'Yahoo Finance Video',\n",
       "    'url': 'https://finance.yahoo.com/'},\n",
       "   'canonicalUrl': {'url': 'https://finance.yahoo.com/video/big-tech-set-20-earnings-214500724.html',\n",
       "    'site': 'finance',\n",
       "    'region': 'US',\n",
       "    'lang': 'en-US'},\n",
       "   'clickThroughUrl': {'url': 'https://finance.yahoo.com/video/big-tech-set-20-earnings-214500724.html',\n",
       "    'site': 'finance',\n",
       "    'region': 'US',\n",
       "    'lang': 'en-US'},\n",
       "   'metadata': {'editorsPick': True},\n",
       "   'finance': {'premiumFinance': {'isPremiumNews': False,\n",
       "     'isPremiumFreeNews': False}},\n",
       "   'storyline': {'storylineItems': [{'content': {'id': 'a29504c2-2ef4-31a4-a563-b31219645a96',\n",
       "       'contentType': 'STORY',\n",
       "       'isHosted': True,\n",
       "       'title': 'How to switch off Apple Intelligence on your iPhone, iPad, and Mac',\n",
       "       'thumbnail': {'originalUrl': 'https://media.zenfs.com/en/techcrunch_for_finance_733/fbdc19efa2e5f646fc8bc0d2a9261143',\n",
       "        'originalWidth': 1654,\n",
       "        'originalHeight': 1474,\n",
       "        'caption': 'a screenshot showing Apple Intelligence switched on in the Apple Mac user settings.',\n",
       "        'resolutions': None},\n",
       "       'provider': {'displayName': 'TechCrunch',\n",
       "        'sourceId': 'techcrunch_for_finance_733'},\n",
       "       'previewUrl': None,\n",
       "       'providerContentUrl': 'https://techcrunch.com/2025/01/27/how-to-switch-off-apple-intelligence-on-your-iphone-ipad-and-mac/',\n",
       "       'canonicalUrl': {'url': 'https://techcrunch.com/2025/01/27/how-to-switch-off-apple-intelligence-on-your-iphone-ipad-and-mac/'},\n",
       "       'clickThroughUrl': {'url': 'https://finance.yahoo.com/news/switch-off-apple-intelligence-iphone-223404947.html'}}},\n",
       "     {'content': {'id': 'a73f31ec-8834-46a7-8831-873d41098800',\n",
       "       'contentType': 'STORY',\n",
       "       'isHosted': True,\n",
       "       'title': \"OpenAI launches ChatGPT Gov as industry reels from DeepSeek's breakout\",\n",
       "       'thumbnail': {'originalUrl': 'https://s.yimg.com/os/creatr-uploaded-images/2025-01/c3384420-d8cb-11ef-bfdb-aee8b29c337d',\n",
       "        'originalWidth': 5809,\n",
       "        'originalHeight': 3870,\n",
       "        'caption': '',\n",
       "        'resolutions': None},\n",
       "       'provider': {'displayName': 'Yahoo Finance',\n",
       "        'sourceId': 'yahoofinance.com'},\n",
       "       'previewUrl': None,\n",
       "       'providerContentUrl': '',\n",
       "       'canonicalUrl': {'url': 'https://finance.yahoo.com/news/openai-launches-chatgpt-gov-as-industry-reels-from-deepseeks-breakout-162820033.html'},\n",
       "       'clickThroughUrl': {'url': 'https://finance.yahoo.com/news/openai-launches-chatgpt-gov-as-industry-reels-from-deepseeks-breakout-162820033.html'}}}]}}},\n",
       " {'id': '036a904b-7a7f-4789-a51a-6330e6a4db3e',\n",
       "  'content': {'id': '036a904b-7a7f-4789-a51a-6330e6a4db3e',\n",
       "   'contentType': 'STORY',\n",
       "   'title': 'Why DeepSeek has been so unsettling for the stock market in 3 charts',\n",
       "   'description': '',\n",
       "   'summary': \"DeepSeek's rise could challenge the sustainability of Big Tech earnings growth, a key pillar of the bull market rally.\",\n",
       "   'pubDate': '2025-01-28T16:15:06Z',\n",
       "   'isHosted': True,\n",
       "   'bypassModal': False,\n",
       "   'previewUrl': None,\n",
       "   'thumbnail': {'originalUrl': 'https://s.yimg.com/os/creatr-uploaded-images/2025-01/d13bc500-d83b-11ef-bb0e-b4a02f15ad0d',\n",
       "    'originalWidth': 4845,\n",
       "    'originalHeight': 3230,\n",
       "    'caption': '',\n",
       "    'resolutions': [{'url': 'https://s.yimg.com/uu/api/res/1.2/bbO2e4LNV9RcqIKfswmvdQ--~B/aD0zMjMwO3c9NDg0NTthcHBpZD15dGFjaHlvbg--/https://s.yimg.com/os/creatr-uploaded-images/2025-01/d13bc500-d83b-11ef-bb0e-b4a02f15ad0d',\n",
       "      'width': 4845,\n",
       "      'height': 3230,\n",
       "      'tag': 'original'},\n",
       "     {'url': 'https://s.yimg.com/uu/api/res/1.2/GbTzw.B_7owNUklXzFKFMg--~B/Zmk9c3RyaW07aD0xMjg7dz0xNzA7YXBwaWQ9eXRhY2h5b24-/https://s.yimg.com/os/creatr-uploaded-images/2025-01/d13bc500-d83b-11ef-bb0e-b4a02f15ad0d',\n",
       "      'width': 170,\n",
       "      'height': 128,\n",
       "      'tag': '170x128'}]},\n",
       "   'provider': {'displayName': 'Yahoo Finance',\n",
       "    'url': 'http://finance.yahoo.com/'},\n",
       "   'canonicalUrl': {'url': 'https://finance.yahoo.com/news/why-deepseek-has-been-so-unsettling-for-the-stock-market-in-3-charts-161506312.html',\n",
       "    'site': 'finance',\n",
       "    'region': 'US',\n",
       "    'lang': 'en-US'},\n",
       "   'clickThroughUrl': {'url': 'https://finance.yahoo.com/news/why-deepseek-has-been-so-unsettling-for-the-stock-market-in-3-charts-161506312.html',\n",
       "    'site': 'finance',\n",
       "    'region': 'US',\n",
       "    'lang': 'en-US'},\n",
       "   'metadata': {'editorsPick': True},\n",
       "   'finance': {'premiumFinance': {'isPremiumNews': False,\n",
       "     'isPremiumFreeNews': False}},\n",
       "   'storyline': {'storylineItems': [{'content': {'id': 'ac111575-618f-310d-9506-a2c240c728ab',\n",
       "       'contentType': 'VIDEO',\n",
       "       'isHosted': True,\n",
       "       'title': \"As tech sell-off eases, what does it mean for Big Tech's AI spend?\",\n",
       "       'thumbnail': {'originalUrl': 'https://s.yimg.com/os/creatr-uploaded-images/2025-01/fbd752c0-dd8b-11ef-bf1e-af4f96b9a109',\n",
       "        'originalWidth': 8256,\n",
       "        'originalHeight': 4648,\n",
       "        'caption': '',\n",
       "        'resolutions': None},\n",
       "       'provider': {'displayName': 'Yahoo Finance Video',\n",
       "        'sourceId': 'video.yahoofinance.com'},\n",
       "       'previewUrl': None,\n",
       "       'providerContentUrl': '',\n",
       "       'canonicalUrl': {'url': 'https://finance.yahoo.com/video/tech-sell-off-eases-does-160000488.html'},\n",
       "       'clickThroughUrl': {'url': 'https://finance.yahoo.com/video/tech-sell-off-eases-does-160000488.html'}}},\n",
       "     {'content': {'id': '43329275-e478-31ea-97c0-bb43a1e85123',\n",
       "       'contentType': 'VIDEO',\n",
       "       'isHosted': True,\n",
       "       'title': \"Winners and losers in Monday's DeepSeek shake-up\",\n",
       "       'thumbnail': {'originalUrl': 'https://s.yimg.com/os/creatr-uploaded-images/2025-01/7ebfc840-dcf9-11ef-bbe9-f2b9aa84580f',\n",
       "        'originalWidth': 5425,\n",
       "        'originalHeight': 3053,\n",
       "        'caption': '',\n",
       "        'resolutions': None},\n",
       "       'provider': {'displayName': 'Yahoo Finance Video',\n",
       "        'sourceId': 'video.yahoofinance.com'},\n",
       "       'previewUrl': None,\n",
       "       'providerContentUrl': '',\n",
       "       'canonicalUrl': {'url': 'https://finance.yahoo.com/video/winners-losers-mondays-deepseek-shake-222220073.html'},\n",
       "       'clickThroughUrl': {'url': 'https://finance.yahoo.com/video/winners-losers-mondays-deepseek-shake-222220073.html'}}}]}}},\n",
       " {'id': '381a2268-a9b1-306c-822a-2c553769edc4',\n",
       "  'content': {'id': '381a2268-a9b1-306c-822a-2c553769edc4',\n",
       "   'contentType': 'STORY',\n",
       "   'title': 'Should Investors Load Up on Apple Stock Before Jan. 30?',\n",
       "   'description': '',\n",
       "   'summary': 'The premium smartphone brand is still printing money, but trades at an above-average valuation.',\n",
       "   'pubDate': '2025-01-28T21:30:18Z',\n",
       "   'isHosted': True,\n",
       "   'bypassModal': False,\n",
       "   'previewUrl': None,\n",
       "   'thumbnail': {'originalUrl': 'https://media.zenfs.com/en/motleyfool.com/da95e0e2c84a821c2ee6a095b742a3e9',\n",
       "    'originalWidth': 720,\n",
       "    'originalHeight': 441,\n",
       "    'caption': 'AAPL PE Ratio Chart',\n",
       "    'resolutions': [{'url': 'https://s.yimg.com/uu/api/res/1.2/c61XwH0dT10sb_O2wj8tFw--~B/aD00NDE7dz03MjA7YXBwaWQ9eXRhY2h5b24-/https://media.zenfs.com/en/motleyfool.com/da95e0e2c84a821c2ee6a095b742a3e9',\n",
       "      'width': 720,\n",
       "      'height': 441,\n",
       "      'tag': 'original'},\n",
       "     {'url': 'https://s.yimg.com/uu/api/res/1.2/YbqR33dGjnH7UmgKNBJJiA--~B/Zmk9c3RyaW07aD0xMjg7dz0xNzA7YXBwaWQ9eXRhY2h5b24-/https://media.zenfs.com/en/motleyfool.com/da95e0e2c84a821c2ee6a095b742a3e9',\n",
       "      'width': 170,\n",
       "      'height': 128,\n",
       "      'tag': '170x128'}]},\n",
       "   'provider': {'displayName': 'Motley Fool', 'url': 'http://www.fool.com/'},\n",
       "   'canonicalUrl': {'url': 'https://www.fool.com/investing/2025/01/28/should-investors-load-up-on-apple-stock-before-jan/?source=eptyholnk0000202&utm_source=yahoo-host-full&utm_medium=feed&utm_campaign=article&referring_guid=df9119c8-1f94-4dac-9fe2-62b1c564d203',\n",
       "    'site': 'finance',\n",
       "    'region': 'US',\n",
       "    'lang': 'en-US'},\n",
       "   'clickThroughUrl': {'url': 'https://finance.yahoo.com/news/investors-load-apple-stock-jan-213018251.html',\n",
       "    'site': 'finance',\n",
       "    'region': 'US',\n",
       "    'lang': 'en-US'},\n",
       "   'metadata': {'editorsPick': False},\n",
       "   'finance': {'premiumFinance': {'isPremiumNews': False,\n",
       "     'isPremiumFreeNews': False}},\n",
       "   'storyline': None}},\n",
       " {'id': '4205eaa9-f620-3a0b-a81a-0e82c7c9fd0b',\n",
       "  'content': {'id': '4205eaa9-f620-3a0b-a81a-0e82c7c9fd0b',\n",
       "   'contentType': 'STORY',\n",
       "   'title': 'Magnificent Seven Stocks: Nvidia, Apple Surge; Tesla Slides To Key Level',\n",
       "   'description': '',\n",
       "   'summary': 'Dubbed the Magnificent Seven stocks, Apple, Microsoft, Google parent Alphabet, Amazon.com, Nvidia, Meta Platforms and Tesla lived up to their name in 2024 with solid gains. Due to their outsized market capitalizations, Magnificent Seven stocks hold a disproportionate influence on the market-cap weighted Nasdaq composite and S&P 500 indexes.',\n",
       "   'pubDate': '2025-01-28T20:04:42Z',\n",
       "   'isHosted': False,\n",
       "   'bypassModal': False,\n",
       "   'previewUrl': 'https://finance.yahoo.com/m/4205eaa9-f620-3a0b-a81a-0e82c7c9fd0b/magnificent-seven-stocks-.html',\n",
       "   'thumbnail': {'originalUrl': 'https://media.zenfs.com/en/ibd.com/60781d2314c2255b67b1daa48e4d2b79',\n",
       "    'originalWidth': 1000,\n",
       "    'originalHeight': 563,\n",
       "    'caption': '',\n",
       "    'resolutions': [{'url': 'https://s.yimg.com/uu/api/res/1.2/wMh1veH6d5VRSpVUHXt8ig--~B/aD01NjM7dz0xMDAwO2FwcGlkPXl0YWNoeW9u/https://media.zenfs.com/en/ibd.com/60781d2314c2255b67b1daa48e4d2b79',\n",
       "      'width': 1000,\n",
       "      'height': 563,\n",
       "      'tag': 'original'},\n",
       "     {'url': 'https://s.yimg.com/uu/api/res/1.2/krfxyw8Jn4D2rtjuerCPUA--~B/Zmk9c3RyaW07aD0xMjg7dz0xNzA7YXBwaWQ9eXRhY2h5b24-/https://media.zenfs.com/en/ibd.com/60781d2314c2255b67b1daa48e4d2b79',\n",
       "      'width': 170,\n",
       "      'height': 128,\n",
       "      'tag': '170x128'}]},\n",
       "   'provider': {'displayName': \"Investor's Business Daily\",\n",
       "    'url': 'http://www.investors.com/'},\n",
       "   'canonicalUrl': {'url': 'https://www.investors.com/research/magnificent-seven-stocks-january-2025/?src=A00220&yptr=yahoo',\n",
       "    'site': 'finance',\n",
       "    'region': 'US',\n",
       "    'lang': 'en-US'},\n",
       "   'clickThroughUrl': None,\n",
       "   'metadata': {'editorsPick': False},\n",
       "   'finance': {'premiumFinance': {'isPremiumNews': False,\n",
       "     'isPremiumFreeNews': False}},\n",
       "   'storyline': None}},\n",
       " {'id': 'ffc356fd-2917-3dc6-9afe-bbfc30a94a0b',\n",
       "  'content': {'id': 'ffc356fd-2917-3dc6-9afe-bbfc30a94a0b',\n",
       "   'contentType': 'STORY',\n",
       "   'title': 'Why AAPL Is Climbing Today',\n",
       "   'description': '',\n",
       "   'summary': 'Apple (AAPL) is advancing 4% today after a research firm reported that the company’s iPhones were the best-selling smartphone in China last quarter. Earlier this month, another research firm stated that AAPL had dropped to third place in terms of smartphone market share in the Asian country. The iPhone Was Reportedly the Q4 Market Share […]',\n",
       "   'pubDate': '2025-01-28T17:18:39Z',\n",
       "   'isHosted': True,\n",
       "   'bypassModal': False,\n",
       "   'previewUrl': None,\n",
       "   'thumbnail': {'originalUrl': 'https://media.zenfs.com/en/insidermonkey.com/410ac07c4c90786d8592963501a2ed84',\n",
       "    'originalWidth': 1456,\n",
       "    'originalHeight': 816,\n",
       "    'caption': 'Dan Niles on Apple (AAPL): Data is ‘Somewhat Disappointing’ and Stock is ‘Pretty Expensive',\n",
       "    'resolutions': [{'url': 'https://s.yimg.com/uu/api/res/1.2/ZW3fq6JkBYqEx9N2Vum6qQ--~B/aD04MTY7dz0xNDU2O2FwcGlkPXl0YWNoeW9u/https://media.zenfs.com/en/insidermonkey.com/410ac07c4c90786d8592963501a2ed84',\n",
       "      'width': 1456,\n",
       "      'height': 816,\n",
       "      'tag': 'original'},\n",
       "     {'url': 'https://s.yimg.com/uu/api/res/1.2/Lc51vPFvh_63B_mHSkS49Q--~B/Zmk9c3RyaW07aD0xMjg7dz0xNzA7YXBwaWQ9eXRhY2h5b24-/https://media.zenfs.com/en/insidermonkey.com/410ac07c4c90786d8592963501a2ed84',\n",
       "      'width': 170,\n",
       "      'height': 128,\n",
       "      'tag': '170x128'}]},\n",
       "   'provider': {'displayName': 'Insider Monkey',\n",
       "    'url': 'http://www.insidermonkey.com'},\n",
       "   'canonicalUrl': {'url': 'https://finance.yahoo.com/news/why-aapl-climbing-today-171839870.html',\n",
       "    'site': 'finance',\n",
       "    'region': 'US',\n",
       "    'lang': 'en-US'},\n",
       "   'clickThroughUrl': {'url': 'https://finance.yahoo.com/news/why-aapl-climbing-today-171839870.html',\n",
       "    'site': 'finance',\n",
       "    'region': 'US',\n",
       "    'lang': 'en-US'},\n",
       "   'metadata': {'editorsPick': False},\n",
       "   'finance': {'premiumFinance': {'isPremiumNews': False,\n",
       "     'isPremiumFreeNews': False}},\n",
       "   'storyline': None}},\n",
       " {'id': '65b53896-faf4-3a06-9d0d-a63cf3c83192',\n",
       "  'content': {'id': '65b53896-faf4-3a06-9d0d-a63cf3c83192',\n",
       "   'contentType': 'STORY',\n",
       "   'title': 'Dow Jones Stocks: Nvidia Rebounds, Apple Rallies To Key Level; Amazon Hits New High',\n",
       "   'description': '',\n",
       "   'summary': 'Nvidia reversed sharply higher Tuesday, while Apple rallied above a key level. Amazon hit a new high.',\n",
       "   'pubDate': '2025-01-28T17:02:33Z',\n",
       "   'isHosted': False,\n",
       "   'bypassModal': False,\n",
       "   'previewUrl': 'https://finance.yahoo.com/m/65b53896-faf4-3a06-9d0d-a63cf3c83192/dow-jones-stocks-nvidia.html',\n",
       "   'thumbnail': {'originalUrl': 'https://media.zenfs.com/en/ibd.com/24d87b91faaf95c8cddaf456bf6f8805',\n",
       "    'originalWidth': 1000,\n",
       "    'originalHeight': 511,\n",
       "    'caption': '',\n",
       "    'resolutions': [{'url': 'https://s.yimg.com/uu/api/res/1.2/lkXEWREueqjDGYNJUaamkQ--~B/aD01MTE7dz0xMDAwO2FwcGlkPXl0YWNoeW9u/https://media.zenfs.com/en/ibd.com/24d87b91faaf95c8cddaf456bf6f8805',\n",
       "      'width': 1000,\n",
       "      'height': 511,\n",
       "      'tag': 'original'},\n",
       "     {'url': 'https://s.yimg.com/uu/api/res/1.2/ueFXdJUJdZ_yfw7SzYL4OA--~B/Zmk9c3RyaW07aD0xMjg7dz0xNzA7YXBwaWQ9eXRhY2h5b24-/https://media.zenfs.com/en/ibd.com/24d87b91faaf95c8cddaf456bf6f8805',\n",
       "      'width': 170,\n",
       "      'height': 128,\n",
       "      'tag': '170x128'}]},\n",
       "   'provider': {'displayName': \"Investor's Business Daily\",\n",
       "    'url': 'http://www.investors.com/'},\n",
       "   'canonicalUrl': {'url': 'https://www.investors.com/research/dow-jones-stocks-january-2025/?src=A00220&yptr=yahoo',\n",
       "    'site': 'finance',\n",
       "    'region': 'US',\n",
       "    'lang': 'en-US'},\n",
       "   'clickThroughUrl': None,\n",
       "   'metadata': {'editorsPick': False},\n",
       "   'finance': {'premiumFinance': {'isPremiumNews': False,\n",
       "     'isPremiumFreeNews': False}},\n",
       "   'storyline': None}},\n",
       " {'id': '3a6dd8c7-3a56-3c47-b0e5-8aae33cb0d30',\n",
       "  'content': {'id': '3a6dd8c7-3a56-3c47-b0e5-8aae33cb0d30',\n",
       "   'contentType': 'STORY',\n",
       "   'title': 'Apple Shares Jumps 4% on Bullish Analyst Target and AI Innovation Prospects',\n",
       "   'description': '',\n",
       "   'summary': \"AI Innovations Drive Apple's Growth Narrative, Analysts Forecast Device Demand\",\n",
       "   'pubDate': '2025-01-28T16:53:42Z',\n",
       "   'isHosted': True,\n",
       "   'bypassModal': False,\n",
       "   'previewUrl': None,\n",
       "   'thumbnail': {'originalUrl': 'https://media.zenfs.com/en/us.finance.gurufocus/d20a3b67b283824e6c758361da423604',\n",
       "    'originalWidth': 400,\n",
       "    'originalHeight': 400,\n",
       "    'caption': '',\n",
       "    'resolutions': [{'url': 'https://s.yimg.com/uu/api/res/1.2/IQ44q9_Wy6B.Aez9iph9.Q--~B/aD00MDA7dz00MDA7YXBwaWQ9eXRhY2h5b24-/https://media.zenfs.com/en/us.finance.gurufocus/d20a3b67b283824e6c758361da423604',\n",
       "      'width': 400,\n",
       "      'height': 400,\n",
       "      'tag': 'original'},\n",
       "     {'url': 'https://s.yimg.com/uu/api/res/1.2/JZRu0hC.9mTndWaHh5SyuA--~B/Zmk9c3RyaW07aD0xMjg7dz0xNzA7YXBwaWQ9eXRhY2h5b24-/https://media.zenfs.com/en/us.finance.gurufocus/d20a3b67b283824e6c758361da423604',\n",
       "      'width': 170,\n",
       "      'height': 128,\n",
       "      'tag': '170x128'}]},\n",
       "   'provider': {'displayName': 'GuruFocus.com',\n",
       "    'url': 'http://www.gurufocus.com/'},\n",
       "   'canonicalUrl': {'url': 'https://finance.yahoo.com/news/apple-stock-jumps-4-td-165342498.html',\n",
       "    'site': 'finance',\n",
       "    'region': 'US',\n",
       "    'lang': 'en-US'},\n",
       "   'clickThroughUrl': {'url': 'https://finance.yahoo.com/news/apple-stock-jumps-4-td-165342498.html',\n",
       "    'site': 'finance',\n",
       "    'region': 'US',\n",
       "    'lang': 'en-US'},\n",
       "   'metadata': {'editorsPick': False},\n",
       "   'finance': {'premiumFinance': {'isPremiumNews': False,\n",
       "     'isPremiumFreeNews': False}},\n",
       "   'storyline': None}},\n",
       " {'id': 'c3a425a8-2aa9-3921-952a-aa9e0d9499de',\n",
       "  'content': {'id': 'c3a425a8-2aa9-3921-952a-aa9e0d9499de',\n",
       "   'contentType': 'STORY',\n",
       "   'title': 'China’s DeepSeek suffers cyberattack',\n",
       "   'description': '',\n",
       "   'summary': 'This move comes as DeepSeek experiences a surge in popularity, positioning itself as a competitor to established AI tools.',\n",
       "   'pubDate': '2025-01-28T15:52:45Z',\n",
       "   'isHosted': True,\n",
       "   'bypassModal': False,\n",
       "   'previewUrl': None,\n",
       "   'thumbnail': {'originalUrl': 'https://media.zenfs.com/en/verdict_626/3447818d1598524e6cf95b1b3fb5705c',\n",
       "    'originalWidth': 1438,\n",
       "    'originalHeight': 811,\n",
       "    'caption': 'DeepSeek claims that its DeepSeek-V3 platform tops the leaderboard among open-source models. Credit: Mojahid Mottakin/Shutterstock.',\n",
       "    'resolutions': [{'url': 'https://s.yimg.com/uu/api/res/1.2/0I7UttMxiIhWpO0RBE7IgQ--~B/aD04MTE7dz0xNDM4O2FwcGlkPXl0YWNoeW9u/https://media.zenfs.com/en/verdict_626/3447818d1598524e6cf95b1b3fb5705c',\n",
       "      'width': 1438,\n",
       "      'height': 811,\n",
       "      'tag': 'original'},\n",
       "     {'url': 'https://s.yimg.com/uu/api/res/1.2/dhL4BgU2Xk_gYZRKQO3lyw--~B/Zmk9c3RyaW07aD0xMjg7dz0xNzA7YXBwaWQ9eXRhY2h5b24-/https://media.zenfs.com/en/verdict_626/3447818d1598524e6cf95b1b3fb5705c',\n",
       "      'width': 170,\n",
       "      'height': 128,\n",
       "      'tag': '170x128'}]},\n",
       "   'provider': {'displayName': 'Verdict',\n",
       "    'url': 'https://www.globaldata.com/'},\n",
       "   'canonicalUrl': {'url': 'https://www.verdict.co.uk/deepseek-limits-cyberattack/',\n",
       "    'site': 'finance',\n",
       "    'region': 'US',\n",
       "    'lang': 'en-US'},\n",
       "   'clickThroughUrl': {'url': 'https://finance.yahoo.com/news/china-deepseek-suffers-cyberattack-155245455.html',\n",
       "    'site': 'finance',\n",
       "    'region': 'US',\n",
       "    'lang': 'en-US'},\n",
       "   'metadata': {'editorsPick': False},\n",
       "   'finance': {'premiumFinance': {'isPremiumNews': False,\n",
       "     'isPremiumFreeNews': False}},\n",
       "   'storyline': None}},\n",
       " {'id': 'b06dd981-855a-3fdd-9d54-136649ad710f',\n",
       "  'content': {'id': 'b06dd981-855a-3fdd-9d54-136649ad710f',\n",
       "   'contentType': 'STORY',\n",
       "   'title': 'Apple Earnings: Should Investors Take a Bite?',\n",
       "   'description': '',\n",
       "   'summary': \"There are a number of key metrics for investors to keep a close eye on in Apple's release, including Services results, China sales, and the adoption/usage rate of Apple Intelligence.\",\n",
       "   'pubDate': '2025-01-28T15:15:00Z',\n",
       "   'isHosted': True,\n",
       "   'bypassModal': False,\n",
       "   'previewUrl': None,\n",
       "   'thumbnail': {'originalUrl': 'https://media.zenfs.com/en/zacks.com/188198a223a8c3b598f95bc0f5aae696',\n",
       "    'originalWidth': 635,\n",
       "    'originalHeight': 400,\n",
       "    'caption': '',\n",
       "    'resolutions': [{'url': 'https://s.yimg.com/uu/api/res/1.2/wNLcGPwumXb7PtJ4DpAsDA--~B/aD00MDA7dz02MzU7YXBwaWQ9eXRhY2h5b24-/https://media.zenfs.com/en/zacks.com/188198a223a8c3b598f95bc0f5aae696',\n",
       "      'width': 635,\n",
       "      'height': 400,\n",
       "      'tag': 'original'},\n",
       "     {'url': 'https://s.yimg.com/uu/api/res/1.2/wP6aDvCS1NBbVlXfiR7ttQ--~B/Zmk9c3RyaW07aD0xMjg7dz0xNzA7YXBwaWQ9eXRhY2h5b24-/https://media.zenfs.com/en/zacks.com/188198a223a8c3b598f95bc0f5aae696',\n",
       "      'width': 170,\n",
       "      'height': 128,\n",
       "      'tag': '170x128'}]},\n",
       "   'provider': {'displayName': 'Zacks', 'url': 'http://www.zacks.com/'},\n",
       "   'canonicalUrl': {'url': 'https://finance.yahoo.com/news/apple-earnings-investors-bite-151500382.html',\n",
       "    'site': 'finance',\n",
       "    'region': 'US',\n",
       "    'lang': 'en-US'},\n",
       "   'clickThroughUrl': {'url': 'https://finance.yahoo.com/news/apple-earnings-investors-bite-151500382.html',\n",
       "    'site': 'finance',\n",
       "    'region': 'US',\n",
       "    'lang': 'en-US'},\n",
       "   'metadata': {'editorsPick': False},\n",
       "   'finance': {'premiumFinance': {'isPremiumNews': False,\n",
       "     'isPremiumFreeNews': False}},\n",
       "   'storyline': None}},\n",
       " {'id': '7847b7bc-8062-31e4-a5e6-a716512f84b2',\n",
       "  'content': {'id': '7847b7bc-8062-31e4-a5e6-a716512f84b2',\n",
       "   'contentType': 'STORY',\n",
       "   'title': 'The Zacks Analyst Blog Highlights Apple, Dell Technologies, HP and Microsoft',\n",
       "   'description': '',\n",
       "   'summary': 'Apple, Dell Technologies, HP and Microsoft are part of Zacks top Analyst Blog.',\n",
       "   'pubDate': '2025-01-28T15:14:00Z',\n",
       "   'isHosted': True,\n",
       "   'bypassModal': False,\n",
       "   'previewUrl': None,\n",
       "   'thumbnail': {'originalUrl': 'https://media.zenfs.com/en/zacks.com/5d091b3e912681bbeabff8c176ea70a1',\n",
       "    'originalWidth': 635,\n",
       "    'originalHeight': 400,\n",
       "    'caption': '',\n",
       "    'resolutions': [{'url': 'https://s.yimg.com/uu/api/res/1.2/L4VQ5EfUwz2KrL9KvDeP7g--~B/aD00MDA7dz02MzU7YXBwaWQ9eXRhY2h5b24-/https://media.zenfs.com/en/zacks.com/5d091b3e912681bbeabff8c176ea70a1',\n",
       "      'width': 635,\n",
       "      'height': 400,\n",
       "      'tag': 'original'},\n",
       "     {'url': 'https://s.yimg.com/uu/api/res/1.2/Xg95R1CCKIades4y2M8dVA--~B/Zmk9c3RyaW07aD0xMjg7dz0xNzA7YXBwaWQ9eXRhY2h5b24-/https://media.zenfs.com/en/zacks.com/5d091b3e912681bbeabff8c176ea70a1',\n",
       "      'width': 170,\n",
       "      'height': 128,\n",
       "      'tag': '170x128'}]},\n",
       "   'provider': {'displayName': 'Zacks', 'url': 'http://www.zacks.com/'},\n",
       "   'canonicalUrl': {'url': 'https://finance.yahoo.com/news/zacks-analyst-blog-highlights-apple-151400325.html',\n",
       "    'site': 'finance',\n",
       "    'region': 'US',\n",
       "    'lang': 'en-US'},\n",
       "   'clickThroughUrl': {'url': 'https://finance.yahoo.com/news/zacks-analyst-blog-highlights-apple-151400325.html',\n",
       "    'site': 'finance',\n",
       "    'region': 'US',\n",
       "    'lang': 'en-US'},\n",
       "   'metadata': {'editorsPick': False},\n",
       "   'finance': {'premiumFinance': {'isPremiumNews': False,\n",
       "     'isPremiumFreeNews': False}},\n",
       "   'storyline': None}}]"
      ]
     },
     "execution_count": 7,
     "metadata": {},
     "output_type": "execute_result"
    }
   ],
   "source": [
    "stock.news"
   ]
  },
  {
   "cell_type": "code",
   "execution_count": 14,
   "metadata": {},
   "outputs": [],
   "source": [
    "content = stock.news[0]['content']['summary']"
   ]
  },
  {
   "cell_type": "code",
   "execution_count": 33,
   "metadata": {},
   "outputs": [
    {
     "data": {
      "text/plain": [
       "dict_keys(['id', 'contentType', 'title', 'description', 'summary', 'pubDate', 'isHosted', 'bypassModal', 'previewUrl', 'thumbnail', 'provider', 'canonicalUrl', 'clickThroughUrl', 'metadata', 'finance', 'storyline'])"
      ]
     },
     "execution_count": 33,
     "metadata": {},
     "output_type": "execute_result"
    }
   ],
   "source": [
    "stock.news[0]['content'].keys()"
   ]
  },
  {
   "cell_type": "code",
   "execution_count": null,
   "metadata": {},
   "outputs": [
    {
     "ename": "ValueError",
     "evalue": "time data '2025-01-28T21:45:00Z' does not match format '%a, %d %b %Y %H:%M:%S %Z'",
     "output_type": "error",
     "traceback": [
      "\u001b[1;31m---------------------------------------------------------------------------\u001b[0m",
      "\u001b[1;31mValueError\u001b[0m                                Traceback (most recent call last)",
      "Cell \u001b[1;32mIn[36], line 4\u001b[0m\n\u001b[0;32m      1\u001b[0m \u001b[38;5;28;01mfrom\u001b[39;00m\u001b[38;5;250m \u001b[39m\u001b[38;5;21;01mdatetime\u001b[39;00m\u001b[38;5;250m \u001b[39m\u001b[38;5;28;01mimport\u001b[39;00m datetime\n\u001b[0;32m      3\u001b[0m pub_date_str \u001b[38;5;241m=\u001b[39m stock\u001b[38;5;241m.\u001b[39mnews[\u001b[38;5;241m0\u001b[39m][\u001b[38;5;124m'\u001b[39m\u001b[38;5;124mcontent\u001b[39m\u001b[38;5;124m'\u001b[39m][\u001b[38;5;124m'\u001b[39m\u001b[38;5;124mpubDate\u001b[39m\u001b[38;5;124m'\u001b[39m]\n\u001b[1;32m----> 4\u001b[0m pub_date \u001b[38;5;241m=\u001b[39m \u001b[43mdatetime\u001b[49m\u001b[38;5;241;43m.\u001b[39;49m\u001b[43mstrptime\u001b[49m\u001b[43m(\u001b[49m\u001b[43mpub_date_str\u001b[49m\u001b[43m,\u001b[49m\u001b[43m \u001b[49m\u001b[38;5;124;43m'\u001b[39;49m\u001b[38;5;132;43;01m%a\u001b[39;49;00m\u001b[38;5;124;43m, \u001b[39;49m\u001b[38;5;132;43;01m%d\u001b[39;49;00m\u001b[38;5;124;43m \u001b[39;49m\u001b[38;5;124;43m%\u001b[39;49m\u001b[38;5;124;43mb \u001b[39;49m\u001b[38;5;124;43m%\u001b[39;49m\u001b[38;5;124;43mY \u001b[39;49m\u001b[38;5;124;43m%\u001b[39;49m\u001b[38;5;124;43mH:\u001b[39;49m\u001b[38;5;124;43m%\u001b[39;49m\u001b[38;5;124;43mM:\u001b[39;49m\u001b[38;5;124;43m%\u001b[39;49m\u001b[38;5;124;43mS \u001b[39;49m\u001b[38;5;124;43m%\u001b[39;49m\u001b[38;5;124;43mZ\u001b[39;49m\u001b[38;5;124;43m'\u001b[39;49m\u001b[43m)\u001b[49m\n\u001b[0;32m      5\u001b[0m \u001b[38;5;28mprint\u001b[39m(pub_date)\n",
      "File \u001b[1;32mc:\\Users\\sieun\\anaconda3\\envs\\tradingenv\\Lib\\_strptime.py:554\u001b[0m, in \u001b[0;36m_strptime_datetime\u001b[1;34m(cls, data_string, format)\u001b[0m\n\u001b[0;32m    551\u001b[0m \u001b[38;5;28;01mdef\u001b[39;00m\u001b[38;5;250m \u001b[39m\u001b[38;5;21m_strptime_datetime\u001b[39m(\u001b[38;5;28mcls\u001b[39m, data_string, \u001b[38;5;28mformat\u001b[39m\u001b[38;5;241m=\u001b[39m\u001b[38;5;124m\"\u001b[39m\u001b[38;5;132;01m%a\u001b[39;00m\u001b[38;5;124m \u001b[39m\u001b[38;5;124m%\u001b[39m\u001b[38;5;124mb \u001b[39m\u001b[38;5;132;01m%d\u001b[39;00m\u001b[38;5;124m \u001b[39m\u001b[38;5;124m%\u001b[39m\u001b[38;5;124mH:\u001b[39m\u001b[38;5;124m%\u001b[39m\u001b[38;5;124mM:\u001b[39m\u001b[38;5;124m%\u001b[39m\u001b[38;5;124mS \u001b[39m\u001b[38;5;124m%\u001b[39m\u001b[38;5;124mY\u001b[39m\u001b[38;5;124m\"\u001b[39m):\n\u001b[0;32m    552\u001b[0m \u001b[38;5;250m    \u001b[39m\u001b[38;5;124;03m\"\"\"Return a class cls instance based on the input string and the\u001b[39;00m\n\u001b[0;32m    553\u001b[0m \u001b[38;5;124;03m    format string.\"\"\"\u001b[39;00m\n\u001b[1;32m--> 554\u001b[0m     tt, fraction, gmtoff_fraction \u001b[38;5;241m=\u001b[39m \u001b[43m_strptime\u001b[49m\u001b[43m(\u001b[49m\u001b[43mdata_string\u001b[49m\u001b[43m,\u001b[49m\u001b[43m \u001b[49m\u001b[38;5;28;43mformat\u001b[39;49m\u001b[43m)\u001b[49m\n\u001b[0;32m    555\u001b[0m     tzname, gmtoff \u001b[38;5;241m=\u001b[39m tt[\u001b[38;5;241m-\u001b[39m\u001b[38;5;241m2\u001b[39m:]\n\u001b[0;32m    556\u001b[0m     args \u001b[38;5;241m=\u001b[39m tt[:\u001b[38;5;241m6\u001b[39m] \u001b[38;5;241m+\u001b[39m (fraction,)\n",
      "File \u001b[1;32mc:\\Users\\sieun\\anaconda3\\envs\\tradingenv\\Lib\\_strptime.py:333\u001b[0m, in \u001b[0;36m_strptime\u001b[1;34m(data_string, format)\u001b[0m\n\u001b[0;32m    331\u001b[0m found \u001b[38;5;241m=\u001b[39m format_regex\u001b[38;5;241m.\u001b[39mmatch(data_string)\n\u001b[0;32m    332\u001b[0m \u001b[38;5;28;01mif\u001b[39;00m \u001b[38;5;129;01mnot\u001b[39;00m found:\n\u001b[1;32m--> 333\u001b[0m     \u001b[38;5;28;01mraise\u001b[39;00m \u001b[38;5;167;01mValueError\u001b[39;00m(\u001b[38;5;124m\"\u001b[39m\u001b[38;5;124mtime data \u001b[39m\u001b[38;5;132;01m%r\u001b[39;00m\u001b[38;5;124m does not match format \u001b[39m\u001b[38;5;132;01m%r\u001b[39;00m\u001b[38;5;124m\"\u001b[39m \u001b[38;5;241m%\u001b[39m\n\u001b[0;32m    334\u001b[0m                      (data_string, \u001b[38;5;28mformat\u001b[39m))\n\u001b[0;32m    335\u001b[0m \u001b[38;5;28;01mif\u001b[39;00m \u001b[38;5;28mlen\u001b[39m(data_string) \u001b[38;5;241m!=\u001b[39m found\u001b[38;5;241m.\u001b[39mend():\n\u001b[0;32m    336\u001b[0m     \u001b[38;5;28;01mraise\u001b[39;00m \u001b[38;5;167;01mValueError\u001b[39;00m(\u001b[38;5;124m\"\u001b[39m\u001b[38;5;124munconverted data remains: \u001b[39m\u001b[38;5;132;01m%s\u001b[39;00m\u001b[38;5;124m\"\u001b[39m \u001b[38;5;241m%\u001b[39m\n\u001b[0;32m    337\u001b[0m                       data_string[found\u001b[38;5;241m.\u001b[39mend():])\n",
      "\u001b[1;31mValueError\u001b[0m: time data '2025-01-28T21:45:00Z' does not match format '%a, %d %b %Y %H:%M:%S %Z'"
     ]
    }
   ],
   "source": [
    "stock.news[0]['content']['pubDate']"
   ]
  },
  {
   "cell_type": "code",
   "execution_count": 39,
   "metadata": {},
   "outputs": [
    {
     "data": {
      "text/plain": [
       "datetime.datetime(2025, 1, 28, 0, 0)"
      ]
     },
     "execution_count": 39,
     "metadata": {},
     "output_type": "execute_result"
    }
   ],
   "source": [
    "from datetime import datetime\n",
    "\n",
    "string = '2025-01-28T21:45:00Z'\n",
    "date = string[:10]\n",
    "\n",
    "date = datetime.strptime(date, '%Y-%m-%d')\n",
    "date\n"
   ]
  },
  {
   "cell_type": "code",
   "execution_count": 42,
   "metadata": {},
   "outputs": [
    {
     "data": {
      "text/plain": [
       "datetime.datetime(2025, 1, 28, 21, 45)"
      ]
     },
     "execution_count": 42,
     "metadata": {},
     "output_type": "execute_result"
    }
   ],
   "source": [
    "from datetime import datetime\n",
    "\n",
    "def datetime_from_pubDate(content: str) -> datetime:\n",
    "    date_str = content.split('T')[0]\n",
    "    time_str = content.split('T')[1].split('Z')[0]\n",
    "    date_time_str = f\"{date_str} {time_str}\"\n",
    "    date_time = datetime.strptime(date_time_str, '%Y-%m-%d %H:%M:%S')\n",
    "    return date_time\n",
    "\n",
    "string = '2025-01-28T21:45:00Z'\n",
    "datetime_from_pubDate(string)"
   ]
  },
  {
   "cell_type": "code",
   "execution_count": 35,
   "metadata": {},
   "outputs": [
    {
     "name": "stdout",
     "output_type": "stream",
     "text": [
      "2025-01-28T21:45:00Z\n",
      "2025-01-28T16:15:06Z\n",
      "2025-01-28T21:30:18Z\n",
      "2025-01-28T20:04:42Z\n",
      "2025-01-28T17:18:39Z\n",
      "2025-01-28T17:02:33Z\n",
      "2025-01-28T16:53:42Z\n",
      "2025-01-28T15:52:45Z\n",
      "2025-01-28T15:15:00Z\n",
      "2025-01-28T15:14:00Z\n"
     ]
    }
   ],
   "source": [
    "for i in range(len(stock.news)):\n",
    "    print(stock.news[i]['content']['pubDate'])"
   ]
  },
  {
   "cell_type": "code",
   "execution_count": 15,
   "metadata": {},
   "outputs": [
    {
     "name": "stderr",
     "output_type": "stream",
     "text": [
      "c:\\Users\\sieun\\anaconda3\\envs\\tradingenv\\Lib\\site-packages\\tqdm\\auto.py:21: TqdmWarning: IProgress not found. Please update jupyter and ipywidgets. See https://ipywidgets.readthedocs.io/en/stable/user_install.html\n",
      "  from .autonotebook import tqdm as notebook_tqdm\n"
     ]
    }
   ],
   "source": [
    "import torch\n",
    "from transformers import AutoTokenizer, AutoModelForSequenceClassification\n"
   ]
  },
  {
   "cell_type": "code",
   "execution_count": 16,
   "metadata": {},
   "outputs": [
    {
     "name": "stderr",
     "output_type": "stream",
     "text": [
      "c:\\Users\\sieun\\anaconda3\\envs\\tradingenv\\Lib\\site-packages\\huggingface_hub\\file_download.py:159: UserWarning: `huggingface_hub` cache-system uses symlinks by default to efficiently store duplicated files but your machine does not support them in C:\\Users\\sieun\\.cache\\huggingface\\hub\\models--ProsusAI--finbert. Caching files will still work but in a degraded version that might require more space on your disk. This warning can be disabled by setting the `HF_HUB_DISABLE_SYMLINKS_WARNING` environment variable. For more details, see https://huggingface.co/docs/huggingface_hub/how-to-cache#limitations.\n",
      "To support symlinks on Windows, you either need to activate Developer Mode or to run Python as an administrator. In order to see activate developer mode, see this article: https://docs.microsoft.com/en-us/windows/apps/get-started/enable-your-device-for-development\n",
      "  warnings.warn(message)\n"
     ]
    }
   ],
   "source": [
    "tokeniser = AutoTokenizer.from_pretrained(\"ProsusAI/finbert\")\n",
    "model = AutoModelForSequenceClassification.from_pretrained(\"ProsusAI/finbert\")\n"
   ]
  },
  {
   "cell_type": "code",
   "execution_count": 17,
   "metadata": {},
   "outputs": [],
   "source": [
    "inputs = tokeniser(content, return_tensors=\"pt\", padding=True, truncation=True)\n"
   ]
  },
  {
   "cell_type": "code",
   "execution_count": 18,
   "metadata": {},
   "outputs": [
    {
     "data": {
      "text/plain": [
       "{'input_ids': tensor([[  101,  1996,  2974,  4753,  1006, 28712,  2243,  1007,  2003, 27755,\n",
       "          2075,  2013,  6409,  3041,  2023,  2733,  2044,  1996,  6745,  9932,\n",
       "          2944,  2013,  2822,  1011,  3079,  2784, 19763,  2243,  2741,  9090,\n",
       "         15768, 29059,  1012,  2035, 13102,  4892,  3795, 10518,  3026, 11103,\n",
       "          3208,  1998,  2132,  1997,  3007, 16169,  9388, 11239, 20455,  9794,\n",
       "          3006, 17882,  2000,  6848,  1996,  6627,  4753, 17680,  2004,  1996,\n",
       "         16565,  2161, 22901,  1012, 20455, 28049,  2008,  2016,  3517, 16798,\n",
       "          2629,  2000,  1000,  2022,  1037,  2095,  1997, 11703, 12260,  8156,\n",
       "          1999,  3930,  1000,  2005,  6627,  1010,  5815,  2008,  2045,  2003,\n",
       "          2145,  1000, 12503,  1000,  4953,  2784, 19763,  2243,  1005,  1055,\n",
       "          4254,  1012,  2174,  1010,  2016,  3964,  2008,  7145,  1010,  2047,\n",
       "          4031, 10445,  2046,  1996,  6627,  3006,  7166,  2000,  3443,  3445,\n",
       "          5157,  1010,  1000,  2061,  7955,  2428,  6666,  1012,  1000, 12786,\n",
       "         26004,  5936,  1999,  1996,  6627,  4753,  1010,  2016,  2685,  2041,\n",
       "          2008,  2502,  6627, 21877, 21879,  1006,  3976,  1011, 16565,  1007,\n",
       "          2031,  5281,  1000, 14173,  1000,  1999,  3522,  2706,  2004,  9387,\n",
       "          4737,  2055, 18068,  3930,  1998,  4997,  3007, 20700, 14670,  1012,\n",
       "          6600,  1010, 20455,  3464, 21931,  1010, 18398,  2322,  1003, 16565,\n",
       "          3930,  2005,  1996,  4753,  1999, 16798,  2629,  1010,  2029,  2052,\n",
       "          1000, 16114,  1000,  2783, 26004,  2015,  1012,  2000,  3422,  2062,\n",
       "          6739, 20062,  1998,  4106,  2006,  1996,  6745,  3006,  2895,  1010,\n",
       "          4638,  2041,  2062,  3006, 17882,  1004,  1050,  5910,  2361,  1025,\n",
       "          2182,  1012,  2023,  2695,  2001,  2517,  2011,  4850,  3044,   102]]), 'token_type_ids': tensor([[0, 0, 0, 0, 0, 0, 0, 0, 0, 0, 0, 0, 0, 0, 0, 0, 0, 0, 0, 0, 0, 0, 0, 0,\n",
       "         0, 0, 0, 0, 0, 0, 0, 0, 0, 0, 0, 0, 0, 0, 0, 0, 0, 0, 0, 0, 0, 0, 0, 0,\n",
       "         0, 0, 0, 0, 0, 0, 0, 0, 0, 0, 0, 0, 0, 0, 0, 0, 0, 0, 0, 0, 0, 0, 0, 0,\n",
       "         0, 0, 0, 0, 0, 0, 0, 0, 0, 0, 0, 0, 0, 0, 0, 0, 0, 0, 0, 0, 0, 0, 0, 0,\n",
       "         0, 0, 0, 0, 0, 0, 0, 0, 0, 0, 0, 0, 0, 0, 0, 0, 0, 0, 0, 0, 0, 0, 0, 0,\n",
       "         0, 0, 0, 0, 0, 0, 0, 0, 0, 0, 0, 0, 0, 0, 0, 0, 0, 0, 0, 0, 0, 0, 0, 0,\n",
       "         0, 0, 0, 0, 0, 0, 0, 0, 0, 0, 0, 0, 0, 0, 0, 0, 0, 0, 0, 0, 0, 0, 0, 0,\n",
       "         0, 0, 0, 0, 0, 0, 0, 0, 0, 0, 0, 0, 0, 0, 0, 0, 0, 0, 0, 0, 0, 0, 0, 0,\n",
       "         0, 0, 0, 0, 0, 0, 0, 0, 0, 0, 0, 0, 0, 0, 0, 0, 0, 0, 0, 0, 0, 0, 0, 0,\n",
       "         0, 0, 0, 0, 0, 0, 0, 0, 0, 0, 0, 0, 0, 0]]), 'attention_mask': tensor([[1, 1, 1, 1, 1, 1, 1, 1, 1, 1, 1, 1, 1, 1, 1, 1, 1, 1, 1, 1, 1, 1, 1, 1,\n",
       "         1, 1, 1, 1, 1, 1, 1, 1, 1, 1, 1, 1, 1, 1, 1, 1, 1, 1, 1, 1, 1, 1, 1, 1,\n",
       "         1, 1, 1, 1, 1, 1, 1, 1, 1, 1, 1, 1, 1, 1, 1, 1, 1, 1, 1, 1, 1, 1, 1, 1,\n",
       "         1, 1, 1, 1, 1, 1, 1, 1, 1, 1, 1, 1, 1, 1, 1, 1, 1, 1, 1, 1, 1, 1, 1, 1,\n",
       "         1, 1, 1, 1, 1, 1, 1, 1, 1, 1, 1, 1, 1, 1, 1, 1, 1, 1, 1, 1, 1, 1, 1, 1,\n",
       "         1, 1, 1, 1, 1, 1, 1, 1, 1, 1, 1, 1, 1, 1, 1, 1, 1, 1, 1, 1, 1, 1, 1, 1,\n",
       "         1, 1, 1, 1, 1, 1, 1, 1, 1, 1, 1, 1, 1, 1, 1, 1, 1, 1, 1, 1, 1, 1, 1, 1,\n",
       "         1, 1, 1, 1, 1, 1, 1, 1, 1, 1, 1, 1, 1, 1, 1, 1, 1, 1, 1, 1, 1, 1, 1, 1,\n",
       "         1, 1, 1, 1, 1, 1, 1, 1, 1, 1, 1, 1, 1, 1, 1, 1, 1, 1, 1, 1, 1, 1, 1, 1,\n",
       "         1, 1, 1, 1, 1, 1, 1, 1, 1, 1, 1, 1, 1, 1]])}"
      ]
     },
     "execution_count": 18,
     "metadata": {},
     "output_type": "execute_result"
    }
   ],
   "source": [
    "inputs"
   ]
  },
  {
   "cell_type": "code",
   "execution_count": 20,
   "metadata": {},
   "outputs": [],
   "source": [
    "outputs = model(**inputs)"
   ]
  },
  {
   "cell_type": "code",
   "execution_count": 22,
   "metadata": {},
   "outputs": [
    {
     "data": {
      "text/plain": [
       "SequenceClassifierOutput(loss=None, logits=tensor([[-1.2269,  2.3767, -0.8677]], grad_fn=<AddmmBackward0>), hidden_states=None, attentions=None)"
      ]
     },
     "execution_count": 22,
     "metadata": {},
     "output_type": "execute_result"
    }
   ],
   "source": [
    "outputs"
   ]
  },
  {
   "cell_type": "code",
   "execution_count": 23,
   "metadata": {},
   "outputs": [],
   "source": [
    "probabilities = torch.nn.functional.softmax(outputs.logits, dim=1)\n"
   ]
  },
  {
   "cell_type": "code",
   "execution_count": 24,
   "metadata": {},
   "outputs": [
    {
     "data": {
      "text/plain": [
       "tensor([[0.0255, 0.9379, 0.0366]], grad_fn=<SoftmaxBackward0>)"
      ]
     },
     "execution_count": 24,
     "metadata": {},
     "output_type": "execute_result"
    }
   ],
   "source": [
    "probabilities"
   ]
  },
  {
   "cell_type": "code",
   "execution_count": 25,
   "metadata": {},
   "outputs": [
    {
     "data": {
      "text/plain": [
       "10"
      ]
     },
     "execution_count": 25,
     "metadata": {},
     "output_type": "execute_result"
    }
   ],
   "source": [
    "len(stock.news)"
   ]
  },
  {
   "cell_type": "code",
   "execution_count": 26,
   "metadata": {},
   "outputs": [
    {
     "name": "stdout",
     "output_type": "stream",
     "text": [
      "The technology sector (XLK) is rebounding from losses earlier this week after the latest AI model from Chinese-owned DeepSeek sent chip stocks plunging. Allspring Global Investments Senior Portfolio Manager and Head of Capital Allocation Margie Patel joins Market Domination to discuss the tech sector outlook as the earnings season progresses. Patel acknowledges that she expected 2025 to \"be a year of deceleration in growth\" for tech, adding that there is still \"uncertainty\" regarding DeepSeek's impact. However, she notes that historically, new product entries into the tech market tend to create increased demand, \"so everybody really benefits.\" Addressing valuation concerns in the tech sector, she points out that Big Tech PE ratios (price-earnings) have experienced \"erosion\" in recent months as investors worry about slowing growth and negative capital expenditure impacts. Nevertheless, Patel remains optimistic, projecting 20% earnings growth for the sector in 2025, which would \"justify\" current valuations. To watch more expert insights and analysis on the latest market action, check out more Market Domination&nbsp;here. This post was written by Angel Smith\n",
      "DeepSeek's rise could challenge the sustainability of Big Tech earnings growth, a key pillar of the bull market rally.\n",
      "The premium smartphone brand is still printing money, but trades at an above-average valuation.\n",
      "Dubbed the Magnificent Seven stocks, Apple, Microsoft, Google parent Alphabet, Amazon.com, Nvidia, Meta Platforms and Tesla lived up to their name in 2024 with solid gains. Due to their outsized market capitalizations, Magnificent Seven stocks hold a disproportionate influence on the market-cap weighted Nasdaq composite and S&P 500 indexes.\n",
      "Apple (AAPL) is advancing 4% today after a research firm reported that the company’s iPhones were the best-selling smartphone in China last quarter. Earlier this month, another research firm stated that AAPL had dropped to third place in terms of smartphone market share in the Asian country. The iPhone Was Reportedly the Q4 Market Share […]\n",
      "Nvidia reversed sharply higher Tuesday, while Apple rallied above a key level. Amazon hit a new high.\n",
      "AI Innovations Drive Apple's Growth Narrative, Analysts Forecast Device Demand\n",
      "This move comes as DeepSeek experiences a surge in popularity, positioning itself as a competitor to established AI tools.\n",
      "There are a number of key metrics for investors to keep a close eye on in Apple's release, including Services results, China sales, and the adoption/usage rate of Apple Intelligence.\n",
      "Apple, Dell Technologies, HP and Microsoft are part of Zacks top Analyst Blog.\n"
     ]
    }
   ],
   "source": [
    "for i in stock.news:\n",
    "    print(i['content']['summary'])"
   ]
  },
  {
   "cell_type": "code",
   "execution_count": 27,
   "metadata": {},
   "outputs": [
    {
     "name": "stdout",
     "output_type": "stream",
     "text": [
      "Tesla Trouble? How BYD Could Dethrone Elon Musk Like DeepSeek Did OpenAI. - Barron's https://news.google.com/rss/articles/CBMigAFBVV95cUxNdnpBc3ZpaXo3LWQxcHhzRzBodEUxWmp6N09zRzM4Ri1MeUtwNzZNWnRhcEo2VmFHN2pQWDRfb09teVNyTmRiWmZfZHVJTjBvUWVUQmFVdjRSUVpER3B2b0tTZWJVS0VkcXRjQm1vRzhSWHU4TEhOVllyX2NMYXAzMNIBhgFBVV95cUxNNjBMdVQySUdwM0tBUEhMcTdxeXBqamJfdzdIWTFEakRycDN6UU43bVNGQlNULWllMnh1bF84VGJqSVRLNWdjN24yTVphaTJkalRKRDVzX1IwamNvNG1iUkFuVzAwN3l0QklzYV9VR3d6SHJZd0o2YndYTjhZdkxQYUJsdEpQUQ?oc=5&hl=en-GB&gl=GB&ceid=GB:en\n",
      "Should You Buy Tesla Stock Before Jan. 29? - The Motley Fool https://news.google.com/rss/articles/CBMiiwFBVV95cUxPV2QwYjlvSnRwVlJlR3FrR2xBNWVhZlFSODZYbXByV2RDcGdiQjhKbDJtTkZwemNpWmVxdWx6Sm9hYjliSkdFNUwyajdIOHBnZmhyNllBOEFOc0F1eU9famRqMEVrSUc4emhIaVo5RGhxdE82WEYwcjVDa3UzdGgwekhOU0RRWEY4LWlR?oc=5&hl=en-GB&gl=GB&ceid=GB:en\n",
      "Tesla (TSLA) Earnings: Can it Beat Sky High Expectations? - tastylive https://news.google.com/rss/articles/CBMijwFBVV95cUxNeWpveVhxbC1fMHB5ZHFLX3VWZGhwVm9RZVU0X3BKbnY2aEVTLTJmaHE3aS13dkJudzdaQ1dlQW9Hb0poSVh1TFExaUdKRUgtd2FEZUNJRXVqUDdVWFVla2NNWWVwRmM3VjQ4TVAxWmVLcjU3Y2hlekFVLU9IS1pGLW5KeHg5ME9XRTR0S0ZQVQ?oc=5&hl=en-GB&gl=GB&ceid=GB:en\n",
      "In 2016, Morgan Freeman said he owned Tesla stock. It's soared 3,000% since then. - Business Insider https://news.google.com/rss/articles/CBMirwFBVV95cUxNVm42ZGlJaEM5c3lRR1JYWW5naGpWZkloREZwemdYWmhfbDZIQlRUbk9zR2NLWVUxZXQ2TVBid1NkNXBKVFA5Y1RWV1p2M3lCakdjMG9JVkNTNFBPVy1fbEJGNy00dnUwTVhab2ZwbktpaW52RDFBTVBMbU1Dc3k4eDFYODJDVzQxaDNaaXJzWmJ3NG9nN1ZnZzJmbmZXVnA2bzJQN2RwaG85S25JSkZR?oc=5&hl=en-GB&gl=GB&ceid=GB:en\n",
      "Cathie Wood Swoops In To Buy AMD Shares Amid DeepSeek Tech Upheaval, Dumps Tesla Stock Worth $8.1 Million - Benzinga https://news.google.com/rss/articles/CBMi2wFBVV95cUxNQ1FpSG9QbmdtUFVPU1Z1RE1oOElWX005Ni1lSDYtOThJNlY5WFUtS3YtS1djZFZNQjZDTGRYbkxzSncwbVRZQXpnQzgzSjBrVXNuSTY3a1cySzBYSVh5MUdyNmR4dzNFdXM1bU1Oc1dyV251YlI3bFhsV19najJwazc1R2ZBcGo5blhoalYyT0RRbVgycndmUkg2UEhvaDE5VkM0WWN6Um1lTldqM25nTTZtTEdfaEJfM0Ixak81aXhoc3VvYkc5dmc4WEFIM0NhWl9idGdteEJ1SXM?oc=5&hl=en-GB&gl=GB&ceid=GB:en\n"
     ]
    }
   ],
   "source": [
    "from gnews import GNews\n",
    "\n",
    "gnews = GNews(language='en', country='US')\n",
    "articles = gnews.get_news('Tesla stock')\n",
    "\n",
    "for article in articles[:5]:\n",
    "    print(article['title'], article['url'])"
   ]
  },
  {
   "cell_type": "code",
   "execution_count": 29,
   "metadata": {},
   "outputs": [
    {
     "data": {
      "text/plain": [
       "['__add__',\n",
       " '__class__',\n",
       " '__class_getitem__',\n",
       " '__contains__',\n",
       " '__delattr__',\n",
       " '__delitem__',\n",
       " '__dir__',\n",
       " '__doc__',\n",
       " '__eq__',\n",
       " '__format__',\n",
       " '__ge__',\n",
       " '__getattribute__',\n",
       " '__getitem__',\n",
       " '__getstate__',\n",
       " '__gt__',\n",
       " '__hash__',\n",
       " '__iadd__',\n",
       " '__imul__',\n",
       " '__init__',\n",
       " '__init_subclass__',\n",
       " '__iter__',\n",
       " '__le__',\n",
       " '__len__',\n",
       " '__lt__',\n",
       " '__mul__',\n",
       " '__ne__',\n",
       " '__new__',\n",
       " '__reduce__',\n",
       " '__reduce_ex__',\n",
       " '__repr__',\n",
       " '__reversed__',\n",
       " '__rmul__',\n",
       " '__setattr__',\n",
       " '__setitem__',\n",
       " '__sizeof__',\n",
       " '__str__',\n",
       " '__subclasshook__',\n",
       " 'append',\n",
       " 'clear',\n",
       " 'copy',\n",
       " 'count',\n",
       " 'extend',\n",
       " 'index',\n",
       " 'insert',\n",
       " 'pop',\n",
       " 'remove',\n",
       " 'reverse',\n",
       " 'sort']"
      ]
     },
     "execution_count": 29,
     "metadata": {},
     "output_type": "execute_result"
    }
   ],
   "source": [
    "dir(articles)"
   ]
  }
 ],
 "metadata": {
  "kernelspec": {
   "display_name": "tradingenv",
   "language": "python",
   "name": "python3"
  },
  "language_info": {
   "codemirror_mode": {
    "name": "ipython",
    "version": 3
   },
   "file_extension": ".py",
   "mimetype": "text/x-python",
   "name": "python",
   "nbconvert_exporter": "python",
   "pygments_lexer": "ipython3",
   "version": "3.12.3"
  }
 },
 "nbformat": 4,
 "nbformat_minor": 2
}
