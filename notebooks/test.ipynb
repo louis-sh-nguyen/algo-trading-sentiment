{
 "cells": [
  {
   "cell_type": "code",
   "execution_count": 60,
   "metadata": {},
   "outputs": [],
   "source": [
    "import yfinance as yf\n",
    "import pandas as pd\n",
    "import talib"
   ]
  },
  {
   "cell_type": "code",
   "execution_count": 3,
   "metadata": {},
   "outputs": [
    {
     "name": "stdout",
     "output_type": "stream",
     "text": [
      "\u001b[1;31mType:\u001b[0m        module\n",
      "\u001b[1;31mString form:\u001b[0m <module 'yfinance' from 'c:\\\\Users\\\\sieun\\\\anaconda3\\\\envs\\\\tradingenv\\\\Lib\\\\site-packages\\\\yfinance\\\\__init__.py'>\n",
      "\u001b[1;31mFile:\u001b[0m        c:\\users\\sieun\\anaconda3\\envs\\tradingenv\\lib\\site-packages\\yfinance\\__init__.py\n",
      "\u001b[1;31mDocstring:\u001b[0m   <no docstring>"
     ]
    }
   ],
   "source": [
    "yf"
   ]
  },
  {
   "cell_type": "code",
   "execution_count": 5,
   "metadata": {},
   "outputs": [
    {
     "name": "stderr",
     "output_type": "stream",
     "text": [
      "[*********************100%***********************]  1 of 1 completed\n"
     ]
    }
   ],
   "source": [
    "df = yf.download('AAPL', start='2019-01-01', end='2024-12-31')"
   ]
  },
  {
   "cell_type": "code",
   "execution_count": 12,
   "metadata": {},
   "outputs": [
    {
     "data": {
      "text/plain": [
       "MultiIndex([( 'Close', 'AAPL'),\n",
       "            (  'High', 'AAPL'),\n",
       "            (   'Low', 'AAPL'),\n",
       "            (  'Open', 'AAPL'),\n",
       "            ('Volume', 'AAPL')],\n",
       "           names=['Price', 'Ticker'])"
      ]
     },
     "execution_count": 12,
     "metadata": {},
     "output_type": "execute_result"
    }
   ],
   "source": [
    "df.columns"
   ]
  },
  {
   "cell_type": "code",
   "execution_count": 20,
   "metadata": {},
   "outputs": [
    {
     "name": "stderr",
     "output_type": "stream",
     "text": [
      "C:\\Users\\sieun\\AppData\\Local\\Temp\\ipykernel_9960\\3591518285.py:1: FutureWarning: The previous implementation of stack is deprecated and will be removed in a future version of pandas. See the What's New notes for pandas 2.1.0 for details. Specify future_stack=True to adopt the new implementation and silence this warning.\n",
      "  df = df.stack(level=1).rename_axis(['Date', 'Ticker']).reset_index(level=1)\n"
     ]
    }
   ],
   "source": [
    "df = df.stack(level=1).rename_axis(['Date', 'Ticker']).reset_index(level=1)"
   ]
  },
  {
   "cell_type": "code",
   "execution_count": 26,
   "metadata": {},
   "outputs": [
    {
     "name": "stderr",
     "output_type": "stream",
     "text": [
      "[*********************100%***********************]  1 of 1 completed\n",
      "[*********************100%***********************]  1 of 1 completed\n"
     ]
    }
   ],
   "source": [
    "tickerStrings = ['AAPL', 'MSFT']\n",
    "df_list = []\n",
    "for ticker in tickerStrings:\n",
    "    data = yf.download(ticker, group_by=\"Ticker\", period='2d')\n",
    "    data['ticker'] = ticker  # Add ticker column\n",
    "    df_list.append(data)\n",
    "\n",
    "# Combine all dataframes into a single dataframe\n",
    "df = pd.concat(df_list)\n",
    "# df.to_csv('ticker.csv')"
   ]
  },
  {
   "cell_type": "code",
   "execution_count": 53,
   "metadata": {},
   "outputs": [
    {
     "name": "stderr",
     "output_type": "stream",
     "text": [
      "[*********************100%***********************]  2 of 2 completed\n"
     ]
    }
   ],
   "source": [
    "df = yf.download(tickerStrings)\n",
    "df.columns = df.columns.droplevel(1)\n",
    "# d = {idx: gp.T for idx, gp in df.T.groupby(level=0)}"
   ]
  },
  {
   "cell_type": "code",
   "execution_count": 54,
   "metadata": {},
   "outputs": [
    {
     "data": {
      "text/html": [
       "<div>\n",
       "<style scoped>\n",
       "    .dataframe tbody tr th:only-of-type {\n",
       "        vertical-align: middle;\n",
       "    }\n",
       "\n",
       "    .dataframe tbody tr th {\n",
       "        vertical-align: top;\n",
       "    }\n",
       "\n",
       "    .dataframe thead th {\n",
       "        text-align: right;\n",
       "    }\n",
       "</style>\n",
       "<table border=\"1\" class=\"dataframe\">\n",
       "  <thead>\n",
       "    <tr style=\"text-align: right;\">\n",
       "      <th>Price</th>\n",
       "      <th>Close</th>\n",
       "      <th>Close</th>\n",
       "      <th>High</th>\n",
       "      <th>High</th>\n",
       "      <th>Low</th>\n",
       "      <th>Low</th>\n",
       "      <th>Open</th>\n",
       "      <th>Open</th>\n",
       "      <th>Volume</th>\n",
       "      <th>Volume</th>\n",
       "    </tr>\n",
       "    <tr>\n",
       "      <th>Date</th>\n",
       "      <th></th>\n",
       "      <th></th>\n",
       "      <th></th>\n",
       "      <th></th>\n",
       "      <th></th>\n",
       "      <th></th>\n",
       "      <th></th>\n",
       "      <th></th>\n",
       "      <th></th>\n",
       "      <th></th>\n",
       "    </tr>\n",
       "  </thead>\n",
       "  <tbody>\n",
       "    <tr>\n",
       "      <th>1980-12-12</th>\n",
       "      <td>0.098834</td>\n",
       "      <td>NaN</td>\n",
       "      <td>0.099264</td>\n",
       "      <td>NaN</td>\n",
       "      <td>0.098834</td>\n",
       "      <td>NaN</td>\n",
       "      <td>0.098834</td>\n",
       "      <td>NaN</td>\n",
       "      <td>469033600</td>\n",
       "      <td>NaN</td>\n",
       "    </tr>\n",
       "    <tr>\n",
       "      <th>1980-12-15</th>\n",
       "      <td>0.093678</td>\n",
       "      <td>NaN</td>\n",
       "      <td>0.094108</td>\n",
       "      <td>NaN</td>\n",
       "      <td>0.093678</td>\n",
       "      <td>NaN</td>\n",
       "      <td>0.094108</td>\n",
       "      <td>NaN</td>\n",
       "      <td>175884800</td>\n",
       "      <td>NaN</td>\n",
       "    </tr>\n",
       "    <tr>\n",
       "      <th>1980-12-16</th>\n",
       "      <td>0.086802</td>\n",
       "      <td>NaN</td>\n",
       "      <td>0.087232</td>\n",
       "      <td>NaN</td>\n",
       "      <td>0.086802</td>\n",
       "      <td>NaN</td>\n",
       "      <td>0.087232</td>\n",
       "      <td>NaN</td>\n",
       "      <td>105728000</td>\n",
       "      <td>NaN</td>\n",
       "    </tr>\n",
       "    <tr>\n",
       "      <th>1980-12-17</th>\n",
       "      <td>0.088951</td>\n",
       "      <td>NaN</td>\n",
       "      <td>0.089381</td>\n",
       "      <td>NaN</td>\n",
       "      <td>0.088951</td>\n",
       "      <td>NaN</td>\n",
       "      <td>0.088951</td>\n",
       "      <td>NaN</td>\n",
       "      <td>86441600</td>\n",
       "      <td>NaN</td>\n",
       "    </tr>\n",
       "    <tr>\n",
       "      <th>1980-12-18</th>\n",
       "      <td>0.091530</td>\n",
       "      <td>NaN</td>\n",
       "      <td>0.091959</td>\n",
       "      <td>NaN</td>\n",
       "      <td>0.091530</td>\n",
       "      <td>NaN</td>\n",
       "      <td>0.091530</td>\n",
       "      <td>NaN</td>\n",
       "      <td>73449600</td>\n",
       "      <td>NaN</td>\n",
       "    </tr>\n",
       "    <tr>\n",
       "      <th>...</th>\n",
       "      <td>...</td>\n",
       "      <td>...</td>\n",
       "      <td>...</td>\n",
       "      <td>...</td>\n",
       "      <td>...</td>\n",
       "      <td>...</td>\n",
       "      <td>...</td>\n",
       "      <td>...</td>\n",
       "      <td>...</td>\n",
       "      <td>...</td>\n",
       "    </tr>\n",
       "    <tr>\n",
       "      <th>2025-01-17</th>\n",
       "      <td>229.979996</td>\n",
       "      <td>429.029999</td>\n",
       "      <td>232.289993</td>\n",
       "      <td>434.480011</td>\n",
       "      <td>228.479996</td>\n",
       "      <td>428.170013</td>\n",
       "      <td>232.119995</td>\n",
       "      <td>434.089996</td>\n",
       "      <td>68488300</td>\n",
       "      <td>26197500.0</td>\n",
       "    </tr>\n",
       "    <tr>\n",
       "      <th>2025-01-21</th>\n",
       "      <td>222.639999</td>\n",
       "      <td>428.500000</td>\n",
       "      <td>224.419998</td>\n",
       "      <td>430.899994</td>\n",
       "      <td>219.380005</td>\n",
       "      <td>425.600006</td>\n",
       "      <td>224.000000</td>\n",
       "      <td>430.200012</td>\n",
       "      <td>98070400</td>\n",
       "      <td>26085700.0</td>\n",
       "    </tr>\n",
       "    <tr>\n",
       "      <th>2025-01-22</th>\n",
       "      <td>223.830002</td>\n",
       "      <td>446.200012</td>\n",
       "      <td>224.119995</td>\n",
       "      <td>447.269989</td>\n",
       "      <td>219.789993</td>\n",
       "      <td>436.000000</td>\n",
       "      <td>219.789993</td>\n",
       "      <td>437.559998</td>\n",
       "      <td>64126500</td>\n",
       "      <td>27803800.0</td>\n",
       "    </tr>\n",
       "    <tr>\n",
       "      <th>2025-01-23</th>\n",
       "      <td>223.660004</td>\n",
       "      <td>446.709991</td>\n",
       "      <td>227.029999</td>\n",
       "      <td>446.750000</td>\n",
       "      <td>222.300003</td>\n",
       "      <td>441.500000</td>\n",
       "      <td>224.740005</td>\n",
       "      <td>442.000000</td>\n",
       "      <td>60234800</td>\n",
       "      <td>18389300.0</td>\n",
       "    </tr>\n",
       "    <tr>\n",
       "      <th>2025-01-24</th>\n",
       "      <td>222.779999</td>\n",
       "      <td>444.059998</td>\n",
       "      <td>225.630005</td>\n",
       "      <td>446.649994</td>\n",
       "      <td>221.410004</td>\n",
       "      <td>441.399994</td>\n",
       "      <td>224.779999</td>\n",
       "      <td>445.160004</td>\n",
       "      <td>54619500</td>\n",
       "      <td>15542100.0</td>\n",
       "    </tr>\n",
       "  </tbody>\n",
       "</table>\n",
       "<p>11120 rows × 10 columns</p>\n",
       "</div>"
      ],
      "text/plain": [
       "Price            Close       Close        High        High         Low  \\\n",
       "Date                                                                     \n",
       "1980-12-12    0.098834         NaN    0.099264         NaN    0.098834   \n",
       "1980-12-15    0.093678         NaN    0.094108         NaN    0.093678   \n",
       "1980-12-16    0.086802         NaN    0.087232         NaN    0.086802   \n",
       "1980-12-17    0.088951         NaN    0.089381         NaN    0.088951   \n",
       "1980-12-18    0.091530         NaN    0.091959         NaN    0.091530   \n",
       "...                ...         ...         ...         ...         ...   \n",
       "2025-01-17  229.979996  429.029999  232.289993  434.480011  228.479996   \n",
       "2025-01-21  222.639999  428.500000  224.419998  430.899994  219.380005   \n",
       "2025-01-22  223.830002  446.200012  224.119995  447.269989  219.789993   \n",
       "2025-01-23  223.660004  446.709991  227.029999  446.750000  222.300003   \n",
       "2025-01-24  222.779999  444.059998  225.630005  446.649994  221.410004   \n",
       "\n",
       "Price              Low        Open        Open     Volume      Volume  \n",
       "Date                                                                   \n",
       "1980-12-12         NaN    0.098834         NaN  469033600         NaN  \n",
       "1980-12-15         NaN    0.094108         NaN  175884800         NaN  \n",
       "1980-12-16         NaN    0.087232         NaN  105728000         NaN  \n",
       "1980-12-17         NaN    0.088951         NaN   86441600         NaN  \n",
       "1980-12-18         NaN    0.091530         NaN   73449600         NaN  \n",
       "...                ...         ...         ...        ...         ...  \n",
       "2025-01-17  428.170013  232.119995  434.089996   68488300  26197500.0  \n",
       "2025-01-21  425.600006  224.000000  430.200012   98070400  26085700.0  \n",
       "2025-01-22  436.000000  219.789993  437.559998   64126500  27803800.0  \n",
       "2025-01-23  441.500000  224.740005  442.000000   60234800  18389300.0  \n",
       "2025-01-24  441.399994  224.779999  445.160004   54619500  15542100.0  \n",
       "\n",
       "[11120 rows x 10 columns]"
      ]
     },
     "execution_count": 54,
     "metadata": {},
     "output_type": "execute_result"
    }
   ],
   "source": [
    "df"
   ]
  },
  {
   "cell_type": "code",
   "execution_count": 40,
   "metadata": {},
   "outputs": [
    {
     "name": "stdout",
     "output_type": "stream",
     "text": [
      "Ticker       Date MSFT                            AAPL                      \\\n",
      "Price             Open High Low Close Volume      Open      High       Low   \n",
      "0      1980-12-12  NaN  NaN NaN   NaN    NaN  0.098834  0.099264  0.098834   \n",
      "1      1980-12-15  NaN  NaN NaN   NaN    NaN  0.094108  0.094108  0.093678   \n",
      "2      1980-12-16  NaN  NaN NaN   NaN    NaN  0.087232  0.087232  0.086802   \n",
      "3      1980-12-17  NaN  NaN NaN   NaN    NaN  0.088951  0.089381  0.088951   \n",
      "4      1980-12-18  NaN  NaN NaN   NaN    NaN  0.091530  0.091959  0.091530   \n",
      "\n",
      "Ticker                       \n",
      "Price      Close     Volume  \n",
      "0       0.098834  469033600  \n",
      "1       0.093678  175884800  \n",
      "2       0.086802  105728000  \n",
      "3       0.088951   86441600  \n",
      "4       0.091530   73449600  \n"
     ]
    }
   ],
   "source": [
    "df_reset = df.reset_index()\n",
    "print(df_reset.head())"
   ]
  },
  {
   "cell_type": "code",
   "execution_count": null,
   "metadata": {},
   "outputs": [
    {
     "name": "stdout",
     "output_type": "stream",
     "text": [
      "dict_keys(['address1', 'city', 'state', 'zip', 'country', 'phone', 'website', 'industry', 'industryKey', 'industryDisp', 'sector', 'sectorKey', 'sectorDisp', 'longBusinessSummary', 'fullTimeEmployees', 'companyOfficers', 'auditRisk', 'boardRisk', 'compensationRisk', 'shareHolderRightsRisk', 'overallRisk', 'governanceEpochDate', 'compensationAsOfEpochDate', 'irWebsite', 'maxAge', 'priceHint', 'previousClose', 'open', 'dayLow', 'dayHigh', 'regularMarketPreviousClose', 'regularMarketOpen', 'regularMarketDayLow', 'regularMarketDayHigh', 'dividendRate', 'dividendYield', 'exDividendDate', 'payoutRatio', 'fiveYearAvgDividendYield', 'beta', 'trailingPE', 'forwardPE', 'volume', 'regularMarketVolume', 'averageVolume', 'averageVolume10days', 'averageDailyVolume10Day', 'bid', 'ask', 'bidSize', 'askSize', 'marketCap', 'fiftyTwoWeekLow', 'fiftyTwoWeekHigh', 'priceToSalesTrailing12Months', 'fiftyDayAverage', 'twoHundredDayAverage', 'trailingAnnualDividendRate', 'trailingAnnualDividendYield', 'currency', 'enterpriseValue', 'profitMargins', 'floatShares', 'sharesOutstanding', 'sharesShort', 'sharesShortPriorMonth', 'sharesShortPreviousMonthDate', 'dateShortInterest', 'sharesPercentSharesOut', 'heldPercentInsiders', 'heldPercentInstitutions', 'shortRatio', 'shortPercentOfFloat', 'impliedSharesOutstanding', 'bookValue', 'priceToBook', 'lastFiscalYearEnd', 'nextFiscalYearEnd', 'mostRecentQuarter', 'earningsQuarterlyGrowth', 'netIncomeToCommon', 'trailingEps', 'forwardEps', 'lastSplitFactor', 'lastSplitDate', 'enterpriseToRevenue', 'enterpriseToEbitda', '52WeekChange', 'SandP52WeekChange', 'lastDividendValue', 'lastDividendDate', 'exchange', 'quoteType', 'symbol', 'underlyingSymbol', 'shortName', 'longName', 'firstTradeDateEpochUtc', 'timeZoneFullName', 'timeZoneShortName', 'uuid', 'messageBoardId', 'gmtOffSetMilliseconds', 'currentPrice', 'targetHighPrice', 'targetLowPrice', 'targetMeanPrice', 'targetMedianPrice', 'recommendationMean', 'recommendationKey', 'numberOfAnalystOpinions', 'totalCash', 'totalCashPerShare', 'ebitda', 'totalDebt', 'quickRatio', 'currentRatio', 'totalRevenue', 'debtToEquity', 'revenuePerShare', 'returnOnAssets', 'returnOnEquity', 'grossProfits', 'freeCashflow', 'operatingCashflow', 'earningsGrowth', 'revenueGrowth', 'grossMargins', 'ebitdaMargins', 'operatingMargins', 'financialCurrency', 'trailingPegRatio'])\n"
     ]
    }
   ],
   "source": [
    "stock = yf.Ticker('AAPL')\n",
    "dict = stock.info\n",
    "print(dict.keys())"
   ]
  },
  {
   "cell_type": "code",
   "execution_count": null,
   "metadata": {},
   "outputs": [],
   "source": []
  }
 ],
 "metadata": {
  "kernelspec": {
   "display_name": "tradingenv",
   "language": "python",
   "name": "python3"
  },
  "language_info": {
   "codemirror_mode": {
    "name": "ipython",
    "version": 3
   },
   "file_extension": ".py",
   "mimetype": "text/x-python",
   "name": "python",
   "nbconvert_exporter": "python",
   "pygments_lexer": "ipython3",
   "version": "3.12.3"
  }
 },
 "nbformat": 4,
 "nbformat_minor": 2
}
